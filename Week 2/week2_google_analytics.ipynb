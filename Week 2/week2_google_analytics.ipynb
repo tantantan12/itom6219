{
 "cells": [
  {
   "cell_type": "markdown",
   "metadata": {},
   "source": []
  },
  {
   "cell_type": "markdown",
   "metadata": {},
   "source": [
    "# Accessing Google Analytics Reports Using Python\n",
    "\n",
    "[Official Documentation](https://support.google.com/analytics/answer/9143382?hl=en#zippy=%2Cattribution%2Cdemographics%2Cecommerce%2Cevent%2Cgaming%2Cgeneral%2Cgeography%2Clink%2Cpage-screen%2Cplatform-device%2Cpublisher%2Ctime%2Ctraffic-source%2Cuser%2Cuser-lifetime%2Cvideo%2Cadvertising%2Cpredictive%2Crevenue%2Csearch-console%2Csession)"
   ]
  },
  {
   "cell_type": "code",
   "execution_count": 23,
   "metadata": {},
   "outputs": [],
   "source": [
    "#!pip3 install google.analytics.data"
   ]
  },
  {
   "cell_type": "code",
   "execution_count": 14,
   "metadata": {},
   "outputs": [
    {
     "name": "stdout",
     "output_type": "stream",
     "text": [
      "               city      date activeUsers\n",
      "0         (not set)  20240203           3\n",
      "1            Dallas  20240221           2\n",
      "2         (not set)  20240124           1\n",
      "3         Abbeville  20240203           1\n",
      "4         Abbeville  20240204           1\n",
      "5       Bloomington  20240124           1\n",
      "6            Dallas  20240216           1\n",
      "7            Dallas  20240220           1\n",
      "8        Richardson  20240120           1\n",
      "9        Richardson  20240124           1\n",
      "10       Richardson  20240130           1\n",
      "11       Richardson  20240203           1\n",
      "12       Richardson  20240221           1\n",
      "13  University Park  20240202           1\n"
     ]
    }
   ],
   "source": [
    "from google.analytics.data_v1beta import BetaAnalyticsDataClient\n",
    "from google.analytics.data_v1beta.types import (\n",
    "    DateRange,\n",
    "    Dimension,\n",
    "    Metric,\n",
    "    RunReportRequest,\n",
    ")\n",
    "import os\n",
    "import pandas as pd\n",
    "import json\n",
    "\n",
    "def sample_run_report(property_id=\"424145747\"):\n",
    "    \"\"\"Runs a simple report on a Google Analytics 4 property.\"\"\"\n",
    "    # TODO(developer): Uncomment this variable and replace with your\n",
    "    #  Google Analytics 4 property ID before running the sample.\n",
    "    # property_id = \"YOUR-GA4-PROPERTY-ID\"\n",
    "\n",
    "    # Using a default constructor instructs the client to use the credentials\n",
    "    # specified in GOOGLE_APPLICATION_CREDENTIALS environment variable.\n",
    "    os.environ['GOOGLE_APPLICATION_CREDENTIALS'] = 'C:/Users/Xue Tan/Box/Web and Social Media Analytics/apt-port-251804-905e08b9e9e3.json'\n",
    "   #905e08b9e9e39003c9663aa3b495fac3f1bce7b1 \n",
    "    client = BetaAnalyticsDataClient()\n",
    "    #client = initialize_analyticsreporting()\n",
    "\n",
    "    request = RunReportRequest(\n",
    "        property=f\"properties/{property_id}\",\n",
    "        dimensions=[Dimension(name=\"city\"),Dimension(name=\"date\")], #Dimension(name=\"browser\"),\n",
    "        metrics=[Metric(name=\"activeUsers\")],\n",
    "        date_ranges=[DateRange(start_date=\"2024-01-01\", end_date=\"today\")],\n",
    "    )\n",
    "    response = client.run_report(request)\n",
    "    return response\n",
    "\n",
    "\n",
    "\n",
    "def response_to_df(response):\n",
    "    columns = []\n",
    "    rows = []\n",
    "     \n",
    "    for col in response.dimension_headers:\n",
    "        columns.append(col.name)\n",
    "    for col in response.metric_headers:\n",
    "        columns.append(col.name)\n",
    "     \n",
    "    for row_data in response.rows:\n",
    "        row = []\n",
    "        for val in row_data.dimension_values:\n",
    "            row.append(val.value)\n",
    "        for val in row_data.metric_values:\n",
    "            row.append(val.value)\n",
    "        rows.append(row)\n",
    "    return pd.DataFrame(rows, columns=columns)\n",
    "\n",
    "response=sample_run_report(property_id=\"424145747\")\n",
    "df=response_to_df(response)\n",
    "\n",
    "print(df)"
   ]
  },
  {
   "cell_type": "markdown",
   "metadata": {},
   "source": [
    "## Statistical Test\n",
    "\n",
    "### Independent t-test (two-sample t-test): \n",
    "Used to compare the means of two independent groups.\n",
    "\n",
    "### Paired t-test: \n",
    "Used to compare the means of the same group at two different times or under two different conditions."
   ]
  },
  {
   "cell_type": "code",
   "execution_count": 20,
   "metadata": {},
   "outputs": [
    {
     "name": "stdout",
     "output_type": "stream",
     "text": [
      "8     1\n",
      "9     1\n",
      "10    1\n",
      "11    1\n",
      "12    1\n",
      "Name: activeUsers, dtype: int32\n",
      "0     3\n",
      "1     2\n",
      "2     1\n",
      "3     1\n",
      "4     1\n",
      "5     1\n",
      "6     1\n",
      "7     1\n",
      "13    1\n",
      "Name: activeUsers, dtype: int32\n",
      "T-statistic: -1.035098339013531, P-value: 0.3210327709321358\n"
     ]
    }
   ],
   "source": [
    "from scipy import stats\n",
    "df['activeUsers'] = df['activeUsers'].astype(int)\n",
    "\n",
    "\n",
    "group_a = df[df['city'] == 'Richardson']['activeUsers']\n",
    "print(group_a)\n",
    "group_b = df[df['city'] != 'Richardson']['activeUsers']\n",
    "print(group_b)\n",
    "# Perform the t-test\n",
    "t_stat, p_value = stats.ttest_ind(group_a, group_b)\n",
    "\n",
    "# Output the results\n",
    "print(f\"T-statistic: {t_stat}, P-value: {p_value}\")"
   ]
  }
 ],
 "metadata": {
  "kernelspec": {
   "display_name": "Python 3",
   "language": "python",
   "name": "python3"
  },
  "language_info": {
   "codemirror_mode": {
    "name": "ipython",
    "version": 3
   },
   "file_extension": ".py",
   "mimetype": "text/x-python",
   "name": "python",
   "nbconvert_exporter": "python",
   "pygments_lexer": "ipython3",
   "version": "3.9.13"
  }
 },
 "nbformat": 4,
 "nbformat_minor": 2
}
