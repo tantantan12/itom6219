{
 "cells": [
  {
   "cell_type": "markdown",
   "metadata": {},
   "source": []
  },
  {
   "cell_type": "markdown",
   "metadata": {},
   "source": [
    "https://support.google.com/analytics/answer/9143382?hl=en#zippy=%2Cattribution%2Cdemographics%2Cecommerce%2Cevent%2Cgaming%2Cgeneral%2Cgeography%2Clink%2Cpage-screen%2Cplatform-device%2Cpublisher%2Ctime%2Ctraffic-source%2Cuser%2Cuser-lifetime%2Cvideo%2Cadvertising%2Cpredictive%2Crevenue%2Csearch-console%2Csession"
   ]
  },
  {
   "cell_type": "code",
   "execution_count": 23,
   "metadata": {},
   "outputs": [],
   "source": [
    "#!pip3 install google.analytics.data"
   ]
  },
  {
   "cell_type": "code",
   "execution_count": 36,
   "metadata": {},
   "outputs": [
    {
     "name": "stdout",
     "output_type": "stream",
     "text": [
      "Report result:\n",
      "dimension_headers {\n",
      "  name: \"city\"\n",
      "}\n",
      "metric_headers {\n",
      "  name: \"activeUsers\"\n",
      "  type_: TYPE_INTEGER\n",
      "}\n",
      "rows {\n",
      "  dimension_values {\n",
      "    value: \"(not set)\"\n",
      "  }\n",
      "  metric_values {\n",
      "    value: \"4\"\n",
      "  }\n",
      "}\n",
      "rows {\n",
      "  dimension_values {\n",
      "    value: \"Richardson\"\n",
      "  }\n",
      "  metric_values {\n",
      "    value: \"3\"\n",
      "  }\n",
      "}\n",
      "rows {\n",
      "  dimension_values {\n",
      "    value: \"Abbeville\"\n",
      "  }\n",
      "  metric_values {\n",
      "    value: \"2\"\n",
      "  }\n",
      "}\n",
      "rows {\n",
      "  dimension_values {\n",
      "    value: \"Dallas\"\n",
      "  }\n",
      "  metric_values {\n",
      "    value: \"2\"\n",
      "  }\n",
      "}\n",
      "rows {\n",
      "  dimension_values {\n",
      "    value: \"Bloomington\"\n",
      "  }\n",
      "  metric_values {\n",
      "    value: \"1\"\n",
      "  }\n",
      "}\n",
      "rows {\n",
      "  dimension_values {\n",
      "    value: \"University Park\"\n",
      "  }\n",
      "  metric_values {\n",
      "    value: \"1\"\n",
      "  }\n",
      "}\n",
      "row_count: 6\n",
      "metadata {\n",
      "  currency_code: \"USD\"\n",
      "  time_zone: \"America/Chicago\"\n",
      "}\n",
      "kind: \"analyticsData#runReport\"\n",
      "\n",
      "(not set) 4\n",
      "Richardson 3\n",
      "Abbeville 2\n",
      "Dallas 2\n",
      "Bloomington 1\n",
      "University Park 1\n"
     ]
    }
   ],
   "source": [
    "from google.analytics.data_v1beta import BetaAnalyticsDataClient\n",
    "from google.analytics.data_v1beta.types import (\n",
    "    DateRange,\n",
    "    Dimension,\n",
    "    Metric,\n",
    "    RunReportRequest,\n",
    ")\n",
    "import os\n",
    "import pandas as pd\n",
    "\n",
    "def sample_run_report(property_id=\"424145747\"):\n",
    "    \"\"\"Runs a simple report on a Google Analytics 4 property.\"\"\"\n",
    "    # TODO(developer): Uncomment this variable and replace with your\n",
    "    #  Google Analytics 4 property ID before running the sample.\n",
    "    # property_id = \"YOUR-GA4-PROPERTY-ID\"\n",
    "\n",
    "    # Using a default constructor instructs the client to use the credentials\n",
    "    # specified in GOOGLE_APPLICATION_CREDENTIALS environment variable.\n",
    "    os.environ['GOOGLE_APPLICATION_CREDENTIALS'] = 'C:/Users/Xue Tan/Box/Web and Social Media Analytics/apt-port-251804-905e08b9e9e3.json'\n",
    "   #905e08b9e9e39003c9663aa3b495fac3f1bce7b1 \n",
    "    client = BetaAnalyticsDataClient()\n",
    "    #client = initialize_analyticsreporting()\n",
    "\n",
    "    request = RunReportRequest(\n",
    "        property=f\"properties/{property_id}\",\n",
    "        dimensions=[Dimension(name=\"city\")], #Dimension(name=\"city\"),\n",
    "        metrics=[Metric(name=\"activeUsers\")],\n",
    "        date_ranges=[DateRange(start_date=\"2024-01-01\", end_date=\"today\")],\n",
    "    )\n",
    "    response = client.run_report(request)\n",
    "\n",
    "    print(\"Report result:\")\n",
    "    print(response)\n",
    "#    df = pd.DataFrame(response)\n",
    "#    print(df)\n",
    "    for row in response.rows:\n",
    "        print(row.dimension_values[0].value, row.metric_values[0].value)\n",
    "\n",
    "sample_run_report(property_id=\"424145747\")"
   ]
  }
 ],
 "metadata": {
  "kernelspec": {
   "display_name": "Python 3",
   "language": "python",
   "name": "python3"
  },
  "language_info": {
   "codemirror_mode": {
    "name": "ipython",
    "version": 3
   },
   "file_extension": ".py",
   "mimetype": "text/x-python",
   "name": "python",
   "nbconvert_exporter": "python",
   "pygments_lexer": "ipython3",
   "version": "3.9.13"
  }
 },
 "nbformat": 4,
 "nbformat_minor": 2
}
