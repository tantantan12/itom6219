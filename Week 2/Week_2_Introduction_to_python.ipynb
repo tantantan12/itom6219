{
 "cells": [
  {
   "cell_type": "markdown",
   "metadata": {},
   "source": [
    "# Week 2 - Google Analytics and Python"
   ]
  },
  {
   "cell_type": "markdown",
   "metadata": {},
   "source": [
    "## Section 1: Introduction to Python\n",
    "Python was created in 1990 by Guido van Rossu as a general-purpose and high-level programming language. It has become extremely popular over the past decade because of its intuitive nature, flexibility, and versatility. According to the Developer Nation's recent 30,000 developer survey, Python is among the top three programming language choices of 2023. Python was rated the most popular in data science, machine learning, and artificial intelligence.\n",
    "\n",
    "I hope that this class can show you the charm of phython and motivate you to continue the learning of this great programming language and its associated libraries for data science and machine learning."
   ]
  },
  {
   "cell_type": "markdown",
   "metadata": {},
   "source": [
    "### 1.1 Variables/Data structure\n",
    "Let's try to create a variable x. The equality sign means \"assignment\". Variable names can be anything as long as:\n",
    "- it contains only letters, numbers, or underscores.\n",
    "- the first character is not a number.\n",
    "- the variable name is not one of the reserved keywords.\n",
    "\n",
    "While the variable names can be of anything, it is recommended that you use either of these:\n",
    "- camel case (e.g., variableName)\n",
    "- snake case (e.g., variable_name)\n",
    "\n"
   ]
  },
  {
   "cell_type": "markdown",
   "metadata": {},
   "source": [
    "### 1.2 Data Type & Operators\n",
    "The primary data types within Pyton are integers, floats, and strings. They can be further stored in Python as lists, tuples, and dictionaries. "
   ]
  },
  {
   "cell_type": "code",
   "execution_count": 4,
   "metadata": {},
   "outputs": [],
   "source": [
    "x=30 #integer\n",
    "y=1.23 #float\n",
    "weather=\"cloudy\" #string\n"
   ]
  },
  {
   "cell_type": "markdown",
   "metadata": {},
   "source": [
    "Operators are symbols that perform functions. \n"
   ]
  },
  {
   "cell_type": "code",
   "execution_count": 5,
   "metadata": {},
   "outputs": [
    {
     "name": "stdout",
     "output_type": "stream",
     "text": [
      "5\n"
     ]
    }
   ],
   "source": [
    "A=2\n",
    "B=3\n",
    "C=A+B # the addition operation: +\n",
    "print(C)"
   ]
  },
  {
   "cell_type": "code",
   "execution_count": 6,
   "metadata": {},
   "outputs": [
    {
     "name": "stdout",
     "output_type": "stream",
     "text": [
      "1\n"
     ]
    }
   ],
   "source": [
    "A=4\n",
    "B=3\n",
    "C=A-B\n",
    "print(C) # the subtraction operator: -"
   ]
  },
  {
   "cell_type": "code",
   "execution_count": 7,
   "metadata": {},
   "outputs": [
    {
     "name": "stdout",
     "output_type": "stream",
     "text": [
      "6\n"
     ]
    }
   ],
   "source": [
    "A=3\n",
    "B=2\n",
    "C=A*B\n",
    "print(C) # the multiplication operator: *"
   ]
  },
  {
   "cell_type": "code",
   "execution_count": 8,
   "metadata": {},
   "outputs": [
    {
     "name": "stdout",
     "output_type": "stream",
     "text": [
      "3.0\n"
     ]
    }
   ],
   "source": [
    "A=9\n",
    "B=3\n",
    "C=A/B\n",
    "print(C) # the division operator: /"
   ]
  },
  {
   "cell_type": "code",
   "execution_count": 9,
   "metadata": {},
   "outputs": [
    {
     "name": "stdout",
     "output_type": "stream",
     "text": [
      "3\n"
     ]
    }
   ],
   "source": [
    "A=7\n",
    "B=2\n",
    "C=A//2\n",
    "print(C) # the floor division operator divides and then rounds down to the nearest whole number.\n"
   ]
  },
  {
   "cell_type": "code",
   "execution_count": 10,
   "metadata": {},
   "outputs": [
    {
     "name": "stdout",
     "output_type": "stream",
     "text": [
      "81\n"
     ]
    }
   ],
   "source": [
    "A=9\n",
    "B=2\n",
    "C=A**B\n",
    "print(C) # the exponent operator raises the first value to the power of the second value."
   ]
  },
  {
   "cell_type": "markdown",
   "metadata": {},
   "source": [
    "### 1.3 Lists and Dataframe\n",
    "The way data is stored is called its structure.   \n",
    "#### 1.3.1 List\n",
    "Lists are collections of items."
   ]
  },
  {
   "cell_type": "code",
   "execution_count": null,
   "metadata": {},
   "outputs": [],
   "source": [
    "#lists\n",
    "fruits=[\"apple\",\"pear\",\"orange\",\"banana\"] # a list.\n",
    "\n",
    "Apple=fruits[0] #Python is a zero-based language.\n",
    "\n",
    "print(Apple)\n",
    "fruits.append(\"watermelon\")\n",
    "\n",
    "print(fruits)\n",
    "fruits.remove(\"pear\")\n",
    "\n",
    "print(fruits)"
   ]
  },
  {
   "cell_type": "markdown",
   "metadata": {},
   "source": [
    "#### 1.3.2 Dictionary\n",
    "Dictionaries hold data that can be retrieved with reference items, or keys."
   ]
  },
  {
   "cell_type": "code",
   "execution_count": 23,
   "metadata": {},
   "outputs": [
    {
     "name": "stdout",
     "output_type": "stream",
     "text": [
      "100\n"
     ]
    }
   ],
   "source": [
    "data = {\n",
    "  \"calories\": 100,\n",
    "  \"duration\": 10\n",
    "}\n",
    "\n",
    "print(data[\"calories\"])"
   ]
  },
  {
   "cell_type": "code",
   "execution_count": 26,
   "metadata": {},
   "outputs": [
    {
     "name": "stdout",
     "output_type": "stream",
     "text": [
      "380\n"
     ]
    }
   ],
   "source": [
    "# the value assigned to a key can be a list.\n",
    "data = {\n",
    "  \"calories\": [420, 380, 390],\n",
    "  \"duration\": [50, 40, 45]\n",
    "}\n",
    "\n",
    "print(data[\"calories\"][1])"
   ]
  },
  {
   "cell_type": "markdown",
   "metadata": {},
   "source": [
    "#### 1.3.3 Dataframe\n",
    "A Pandas DataFrame is a 2 dimensional data structure, like a table with rows and columns."
   ]
  },
  {
   "cell_type": "code",
   "execution_count": 27,
   "metadata": {},
   "outputs": [
    {
     "name": "stdout",
     "output_type": "stream",
     "text": [
      "   calories  duration\n",
      "0       420        50\n",
      "1       380        40\n",
      "2       390        45\n"
     ]
    }
   ],
   "source": [
    "import pandas as pd\n",
    "\n",
    "data = {\n",
    "  \"calories\": [420, 380, 390],\n",
    "  \"duration\": [50, 40, 45]\n",
    "}\n",
    " \n",
    "#load data into a DataFrame object:\n",
    "df = pd.DataFrame(data)\n",
    "\n",
    "print(df) \n",
    "\n"
   ]
  },
  {
   "cell_type": "code",
   "execution_count": 28,
   "metadata": {},
   "outputs": [
    {
     "data": {
      "text/plain": [
       "0    420\n",
       "1    380\n",
       "2    390\n",
       "Name: calories, dtype: int64"
      ]
     },
     "execution_count": 28,
     "metadata": {},
     "output_type": "execute_result"
    }
   ],
   "source": [
    "#index one column of a dataframe\n",
    "df['calories']"
   ]
  },
  {
   "cell_type": "code",
   "execution_count": 32,
   "metadata": {},
   "outputs": [
    {
     "data": {
      "text/plain": [
       "calories    420\n",
       "duration     50\n",
       "Name: 0, dtype: int64"
      ]
     },
     "execution_count": 32,
     "metadata": {},
     "output_type": "execute_result"
    }
   ],
   "source": [
    "#index one row \n",
    "df.loc[0]"
   ]
  },
  {
   "cell_type": "code",
   "execution_count": 30,
   "metadata": {},
   "outputs": [
    {
     "data": {
      "text/html": [
       "<div>\n",
       "<style scoped>\n",
       "    .dataframe tbody tr th:only-of-type {\n",
       "        vertical-align: middle;\n",
       "    }\n",
       "\n",
       "    .dataframe tbody tr th {\n",
       "        vertical-align: top;\n",
       "    }\n",
       "\n",
       "    .dataframe thead th {\n",
       "        text-align: right;\n",
       "    }\n",
       "</style>\n",
       "<table border=\"1\" class=\"dataframe\">\n",
       "  <thead>\n",
       "    <tr style=\"text-align: right;\">\n",
       "      <th></th>\n",
       "      <th>calories</th>\n",
       "      <th>duration</th>\n",
       "    </tr>\n",
       "  </thead>\n",
       "  <tbody>\n",
       "    <tr>\n",
       "      <th>0</th>\n",
       "      <td>420</td>\n",
       "      <td>50</td>\n",
       "    </tr>\n",
       "  </tbody>\n",
       "</table>\n",
       "</div>"
      ],
      "text/plain": [
       "   calories  duration\n",
       "0       420        50"
      ]
     },
     "execution_count": 30,
     "metadata": {},
     "output_type": "execute_result"
    }
   ],
   "source": [
    "df[df['calories'] >400] "
   ]
  },
  {
   "cell_type": "markdown",
   "metadata": {},
   "source": [
    "### 1.4 Conditional statements & Control flow statement\n",
    "\n",
    "As we write programs, we will need to carry out specific actions based on certain conditions (==, <, <=, >, >=, !=). Conditional statements are used to evaluate whether these certain conditions are being met.\n",
    "\n",
    "The comparison operators can be combined with different logical operators (and, or, not)"
   ]
  },
  {
   "cell_type": "code",
   "execution_count": 11,
   "metadata": {},
   "outputs": [
    {
     "name": "stdout",
     "output_type": "stream",
     "text": [
      "A is less than B\n",
      "1\n",
      "2\n",
      "3\n"
     ]
    }
   ],
   "source": [
    "#if statement\n",
    "\n",
    "A=10\n",
    "B=20\n",
    "if A<B:\n",
    "    print(\"A is less than B\")\n",
    "else:\n",
    "    print(\"B is less than A\")\n",
    "\n",
    "#for loops \n",
    "\n",
    "iterable=[1,2,3]\n",
    "for x in iterable:\n",
    "    print(x)"
   ]
  },
  {
   "cell_type": "markdown",
   "metadata": {},
   "source": [
    "### 1.5 Functions\n",
    "Functions are prewritten blocks of code that can be invoked to carry out a certain set of actions. For example, print() is a function. You can call functions in multiple ways. \n",
    "- The most intuitive way is to use the function name, followed by parantheses.\n",
    "- Another way is to use \"dot notation\" by placing a period before the name of the function and after a specific object. For example, \n",
    "```\n",
    "target_object.function_name()\n",
    "```\n",
    "- Sometimes we need to provide the function with certain variables or data values. They are called \"parameters\" or \"arguments\". They are passed to the function by putting them within a set of parentheses that follows the function name. For example, \n",
    "```python\n",
    "print(\"Hello!\")\n",
    "```\n",
    "\n",
    "#### 1.5.1 Create Your Own Function\n",
    "In order to tell Python that you would like to create a function, you can use the def keyword. After the def keyword,you provide function name and any arguments you function will make use of. Then you can begin writing the commands.\n",
    "```python\n",
    "def name(parameters):\n",
    "    Code to carry out desired actions.\n",
    "```\n",
    "Your functions will often require another keyword, the **return** keyword, to specify an expression, variable, or value you would like the function to pass back out to the main program once the function has finished running.\n",
    "```python\n",
    "def name(parameters):\n",
    "    Code to carry out desired actions.\n",
    "    return desiredExpression\n",
    "``` \n",
    "\n",
    "If your function returns a value, you can assign that value to a variable by calling the function and assigning it to a variable.\n",
    "\n",
    "```\n",
    "returned_value=function_used(list of parameters)\n",
    "```\n"
   ]
  },
  {
   "cell_type": "markdown",
   "metadata": {},
   "source": [
    "## Section 2: Google Analytics Data Collection\n",
    "\n",
    "More information about dimensions and metrics can be found [here](https://support.google.com/analytics/answer/9143382?hl=en#zippy=%2Cattribution%2Cdemographics%2Cecommerce%2Cevent%2Cgaming%2Cgeneral%2Cgeography%2Clink%2Cpage-screen%2Cplatform-device%2Cpublisher%2Ctime%2Ctraffic-source%2Cuser%2Cuser-lifetime%2Cvideo%2Cadvertising%2Cpredictive%2Crevenue%2Csearch-console%2Csession)."
   ]
  },
  {
   "cell_type": "code",
   "execution_count": null,
   "metadata": {},
   "outputs": [],
   "source": [
    "#!pip3 install google.analytics.data"
   ]
  },
  {
   "cell_type": "code",
   "execution_count": 17,
   "metadata": {},
   "outputs": [
    {
     "name": "stdout",
     "output_type": "stream",
     "text": [
      "               city      date activeUsers\n",
      "0         (not set)  20240203           3\n",
      "1            Dallas  20240221           2\n",
      "2         (not set)  20240124           1\n",
      "3         Abbeville  20240203           1\n",
      "4         Abbeville  20240204           1\n",
      "5       Bloomington  20240124           1\n",
      "6            Dallas  20240216           1\n",
      "7            Dallas  20240220           1\n",
      "8        Richardson  20240120           1\n",
      "9        Richardson  20240124           1\n",
      "10       Richardson  20240130           1\n",
      "11       Richardson  20240203           1\n",
      "12       Richardson  20240221           1\n",
      "13  University Park  20240202           1\n"
     ]
    }
   ],
   "source": [
    "from google.analytics.data_v1beta import BetaAnalyticsDataClient\n",
    "from google.analytics.data_v1beta.types import (\n",
    "    DateRange,\n",
    "    Dimension,\n",
    "    Metric,\n",
    "    RunReportRequest,\n",
    ")\n",
    "import os\n",
    "import pandas as pd\n",
    "import json\n",
    "\n",
    "def sample_run_report(property_id=\"424145747\"):\n",
    "    \"\"\"Runs a simple report on a Google Analytics 4 property.\"\"\"\n",
    "    os.environ['GOOGLE_APPLICATION_CREDENTIALS'] = 'apt-port-251804-905e08b9e9e3.json'\n",
    "    client = BetaAnalyticsDataClient()\n",
    "\n",
    "    request = RunReportRequest(\n",
    "        property=f\"properties/{property_id}\",\n",
    "        dimensions=[Dimension(name=\"city\"),Dimension(name=\"date\")], #Dimension(name=\"browser\"),\n",
    "        metrics=[Metric(name=\"activeUsers\")],\n",
    "        date_ranges=[DateRange(start_date=\"2024-01-01\", end_date=\"today\")],\n",
    "    )\n",
    "    response = client.run_report(request)\n",
    "    return response\n",
    "\n",
    "\n",
    "\n",
    "def response_to_df(response):\n",
    "    columns = []\n",
    "    rows = []\n",
    "     \n",
    "    for col in response.dimension_headers:\n",
    "        columns.append(col.name)\n",
    "    for col in response.metric_headers:\n",
    "        columns.append(col.name)\n",
    "     \n",
    "    for row_data in response.rows:\n",
    "        row = []\n",
    "        for val in row_data.dimension_values:\n",
    "            row.append(val.value)\n",
    "        for val in row_data.metric_values:\n",
    "            row.append(val.value)\n",
    "        rows.append(row)\n",
    "    return pd.DataFrame(rows, columns=columns)\n",
    "\n",
    "response=sample_run_report(property_id=\"424145747\")\n",
    "df=response_to_df(response)\n",
    "\n",
    "print(df)"
   ]
  },
  {
   "cell_type": "markdown",
   "metadata": {},
   "source": [
    "## Section 3: Statistical Test\n",
    "\n",
    "### 3.1 Independent t-test (two-sample t-test): \n",
    "Used to compare the means of two independent groups.\n",
    "\n",
    "### 3.2 Paired t-test: \n",
    "Used to compare the means of the same group at two different times or under two different conditions."
   ]
  },
  {
   "cell_type": "code",
   "execution_count": 14,
   "metadata": {},
   "outputs": [
    {
     "name": "stdout",
     "output_type": "stream",
     "text": [
      "8     1\n",
      "9     1\n",
      "10    1\n",
      "11    1\n",
      "12    1\n",
      "Name: activeUsers, dtype: int32\n",
      "0     3\n",
      "1     2\n",
      "2     1\n",
      "3     1\n",
      "4     1\n",
      "5     1\n",
      "6     1\n",
      "7     1\n",
      "13    1\n",
      "Name: activeUsers, dtype: int32\n",
      "T-statistic: -1.035098339013531, P-value: 0.3210327709321358\n"
     ]
    }
   ],
   "source": [
    "from scipy import stats\n",
    "df['activeUsers'] = df['activeUsers'].astype(int)\n",
    "\n",
    "\n",
    "group_a = df[df['city'] == 'Richardson']['activeUsers']\n",
    "print(group_a)\n",
    "group_b = df[df['city'] != 'Richardson']['activeUsers']\n",
    "print(group_b)\n",
    "# Perform the t-test\n",
    "t_stat, p_value = stats.ttest_ind(group_a, group_b)\n",
    "\n",
    "# Output the results\n",
    "print(f\"T-statistic: {t_stat}, P-value: {p_value}\")"
   ]
  }
 ],
 "metadata": {
  "kernelspec": {
   "display_name": "Python 3",
   "language": "python",
   "name": "python3"
  },
  "language_info": {
   "codemirror_mode": {
    "name": "ipython",
    "version": 3
   },
   "file_extension": ".py",
   "mimetype": "text/x-python",
   "name": "python",
   "nbconvert_exporter": "python",
   "pygments_lexer": "ipython3",
   "version": "3.9.13"
  }
 },
 "nbformat": 4,
 "nbformat_minor": 2
}
