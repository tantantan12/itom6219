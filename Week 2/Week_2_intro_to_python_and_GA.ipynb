{
 "cells": [
  {
   "cell_type": "markdown",
   "metadata": {},
   "source": [
    "# Week 2 - Google Analytics and Python"
   ]
  },
  {
   "cell_type": "markdown",
   "metadata": {},
   "source": [
    "## 1. Introduction to Python\n",
    "Python was created in 1990 by Guido van Rossu as a general-purpose and high-level programming language. It has become extremely popular over the past decade because of its intuitive nature, flexibility, and versatility. According to the Developer Nation's recent 30,000 developer survey, Python is among the top three programming language choices of 2023. Python was rated the most popular in data science, machine learning, and artificial intelligence.\n",
    "\n",
    "I hope that this class can show you the charm of phython and motivate you to continue the learning of this great programming language and its associated libraries for data science and machine learning."
   ]
  },
  {
   "cell_type": "markdown",
   "metadata": {},
   "source": [
    "### 1.1 Variables/Data structure\n",
    "Let's try to create a variable x. The equality sign means \"assignment\". Variable names can be anything as long as:\n",
    "- it contains only letters, numbers, or underscores.\n",
    "- the first character is not a number.\n",
    "- the variable name is not one of the reserved keywords.\n",
    "\n",
    "While the variable names can be of anything, it is recommended that you use either of these:\n",
    "- camel case (e.g., variableName)\n",
    "- snake case (e.g., variable_name)\n",
    "\n"
   ]
  },
  {
   "cell_type": "markdown",
   "metadata": {},
   "source": [
    "### 1.2 Data Type & Operators\n",
    "The primary data types within Pyton are integers, floats, and strings. They can be further stored in Python as lists, tuples, and dictionaries. "
   ]
  },
  {
   "cell_type": "code",
   "execution_count": 1,
   "metadata": {},
   "outputs": [],
   "source": [
    "x=30 #integer\n",
    "y=1.23 #float\n",
    "usernames = \"usernames=Grammarly\" #string"
   ]
  },
  {
   "cell_type": "markdown",
   "metadata": {},
   "source": [
    "Operators are symbols that perform functions. \n"
   ]
  },
  {
   "cell_type": "code",
   "execution_count": 2,
   "metadata": {},
   "outputs": [
    {
     "name": "stdout",
     "output_type": "stream",
     "text": [
      "5\n"
     ]
    }
   ],
   "source": [
    "A=2\n",
    "B=3\n",
    "C=A+B # the addition operation: +\n",
    "print(C)"
   ]
  },
  {
   "cell_type": "code",
   "execution_count": 3,
   "metadata": {},
   "outputs": [
    {
     "name": "stdout",
     "output_type": "stream",
     "text": [
      "1\n"
     ]
    }
   ],
   "source": [
    "A=4\n",
    "B=3\n",
    "C=A-B\n",
    "print(C) # the subtraction operator: -"
   ]
  },
  {
   "cell_type": "code",
   "execution_count": 4,
   "metadata": {},
   "outputs": [
    {
     "name": "stdout",
     "output_type": "stream",
     "text": [
      "6\n"
     ]
    }
   ],
   "source": [
    "A=3\n",
    "B=2\n",
    "C=A*B\n",
    "print(C) # the multiplication operator: *"
   ]
  },
  {
   "cell_type": "code",
   "execution_count": 5,
   "metadata": {},
   "outputs": [
    {
     "name": "stdout",
     "output_type": "stream",
     "text": [
      "3.0\n"
     ]
    }
   ],
   "source": [
    "A=9\n",
    "B=3\n",
    "C=A/B\n",
    "print(C) # the division operator: /"
   ]
  },
  {
   "cell_type": "markdown",
   "metadata": {},
   "source": [
    "### 1.3 Lists and Dataframe\n",
    "The way data is stored is called its structure.   \n",
    "#### 1.3.1 List\n",
    "Lists are collections of items."
   ]
  },
  {
   "cell_type": "code",
   "execution_count": 8,
   "metadata": {},
   "outputs": [
    {
     "name": "stdout",
     "output_type": "stream",
     "text": [
      "apple\n",
      "['apple', 'pear', 'orange', 'banana', 'watermelon']\n",
      "['apple', 'orange', 'banana', 'watermelon']\n"
     ]
    }
   ],
   "source": [
    "#lists\n",
    "\n",
    "dimensions=[] # an empty list.\n",
    "dimensions=[\"city\",\"date\",\"source\",\"medium\"] # a list.\n",
    "\n",
    "City=dimensions[0] #Python is a zero-based language.\n",
    "\n",
    "print(City)\n",
    "dimensions.append(\"country\")\n",
    "\n",
    "print(dimensions)\n",
    "dimensions.remove(\"source\")\n",
    "\n",
    "print(dimensions)"
   ]
  },
  {
   "cell_type": "markdown",
   "metadata": {},
   "source": [
    "#### 1.3.2 Dictionary\n",
    "Dictionaries hold data that can be retrieved with reference items, or keys."
   ]
  },
  {
   "cell_type": "code",
   "execution_count": 9,
   "metadata": {},
   "outputs": [
    {
     "name": "stdout",
     "output_type": "stream",
     "text": [
      "100\n"
     ]
    }
   ],
   "source": [
    "\n",
    "query_params={} # an empty dictionary\n",
    "query_params = {'query': 'GenAI OR AI Marketing'\n",
    "                ,'tweet.fields': 'author_id'\n",
    "                ,'user.fields':'username'\n",
    "                ,'start_time':'2024-02-22T10:14:49Z'\n",
    "                }\n",
    "\n",
    "query_params['end_time']='2024-02-23T10:14:49Z'\n",
    "\n",
    "print(query_params)\n",
    "print(query_params[\"query\"])"
   ]
  },
  {
   "cell_type": "code",
   "execution_count": null,
   "metadata": {},
   "outputs": [],
   "source": [
    "query_params={} # an empty dictionary\n",
    "query_params = {'query': {'keyword':'GenAI'}\n",
    "                ,'tweet.fields': 'author_id'\n",
    "                ,'user.fields':'username'\n",
    "                ,'start_time':'2024-02-22T10:14:49Z'\n",
    "                }\n",
    "\n",
    "# How to access the keyword?"
   ]
  },
  {
   "cell_type": "markdown",
   "metadata": {},
   "source": [
    "#### 1.3.3 Dataframe\n",
    "A Pandas DataFrame is a 2 dimensional data structure, like a table with rows and columns. Did you notice that we used the command ```import pandas as pd``` in the code? This is the very first time for us to import a package. Packages are an essential building block in programming. Without packages, we’d spend lots of time writing code that’s already been written. Finding and using the right package is key to effectively completing your task. \n",
    "\n",
    "Pandas is an open-source software library built on top of Python specifically for data manipulation and analysis. Pandas offers data structure and operations for  powerful, flexible, and easy-to-use data analysis and manipulation. Pandas strengthens Python by giving the popular programming language the capability to work with **spreadsheet-like data** enabling fast loading, aligning, manipulating, and merging, in addition to other key functions. "
   ]
  },
  {
   "cell_type": "code",
   "execution_count": 1,
   "metadata": {},
   "outputs": [
    {
     "name": "stdout",
     "output_type": "stream",
     "text": [
      "    source   target\n",
      "0      Max  Miranda\n",
      "1  Miranda      Ben\n",
      "2  Miranda    Talha\n"
     ]
    }
   ],
   "source": [
    "import pandas as pd\n",
    "\n",
    "edge=[{'source':'Max','target':'Miranda'}\n",
    "    ,{'source':'Miranda','target':'Ben'}\n",
    "    ,{'source':'Miranda','target':'Talha'}] \n",
    "\n",
    "\n",
    "#load data into a DataFrame object:\n",
    "edge_df=pd.DataFrame(edge)\n",
    "\n",
    "print(edge_df) \n",
    "\n"
   ]
  },
  {
   "cell_type": "code",
   "execution_count": 12,
   "metadata": {},
   "outputs": [
    {
     "data": {
      "text/plain": [
       "0    420\n",
       "1    380\n",
       "2    390\n",
       "Name: calories, dtype: int64"
      ]
     },
     "execution_count": 12,
     "metadata": {},
     "output_type": "execute_result"
    }
   ],
   "source": [
    "#index one column of a dataframe\n",
    "edge_df[\"source\"]"
   ]
  },
  {
   "cell_type": "code",
   "execution_count": 13,
   "metadata": {},
   "outputs": [
    {
     "data": {
      "text/plain": [
       "calories    420\n",
       "duration     50\n",
       "Name: 0, dtype: int64"
      ]
     },
     "execution_count": 13,
     "metadata": {},
     "output_type": "execute_result"
    }
   ],
   "source": [
    "#index one row \n",
    "edge_df.iloc[0]"
   ]
  },
  {
   "cell_type": "code",
   "execution_count": 14,
   "metadata": {},
   "outputs": [
    {
     "data": {
      "text/html": [
       "<div>\n",
       "<style scoped>\n",
       "    .dataframe tbody tr th:only-of-type {\n",
       "        vertical-align: middle;\n",
       "    }\n",
       "\n",
       "    .dataframe tbody tr th {\n",
       "        vertical-align: top;\n",
       "    }\n",
       "\n",
       "    .dataframe thead th {\n",
       "        text-align: right;\n",
       "    }\n",
       "</style>\n",
       "<table border=\"1\" class=\"dataframe\">\n",
       "  <thead>\n",
       "    <tr style=\"text-align: right;\">\n",
       "      <th></th>\n",
       "      <th>calories</th>\n",
       "      <th>duration</th>\n",
       "    </tr>\n",
       "  </thead>\n",
       "  <tbody>\n",
       "    <tr>\n",
       "      <th>0</th>\n",
       "      <td>420</td>\n",
       "      <td>50</td>\n",
       "    </tr>\n",
       "  </tbody>\n",
       "</table>\n",
       "</div>"
      ],
      "text/plain": [
       "   calories  duration\n",
       "0       420        50"
      ]
     },
     "execution_count": 14,
     "metadata": {},
     "output_type": "execute_result"
    }
   ],
   "source": [
    "edge_df[edge_df[\"source\"] ==\"Miranda\"] "
   ]
  },
  {
   "cell_type": "markdown",
   "metadata": {},
   "source": [
    "**Exercise**\n",
    "Can you create a list of dictionaries, with each dictionary containing three key-value pairs. The first key is \"source\", the second key is \"target\", and the third key is \"weight\":  \n",
    "\n",
    "| source      | target |  Weight |\n",
    "| ----------- | ----------- |----|\n",
    "| A           | B       |  20 |\n",
    "| C           | B        | 14|"
   ]
  },
  {
   "cell_type": "markdown",
   "metadata": {},
   "source": [
    "### 1.4 Conditional statements & Control flow statement\n",
    "\n",
    "As we write programs, we will need to carry out specific actions based on certain conditions (==, <, <=, >, >=, !=). Conditional statements are used to evaluate whether these certain conditions are being met.\n",
    "\n",
    "The comparison operators can be combined with different logical operators (and, or, not)"
   ]
  },
  {
   "cell_type": "code",
   "execution_count": 15,
   "metadata": {},
   "outputs": [
    {
     "name": "stdout",
     "output_type": "stream",
     "text": [
      "A is less than B\n",
      "1\n",
      "2\n",
      "3\n"
     ]
    }
   ],
   "source": [
    "#if statement\n",
    "\n",
    "A=10\n",
    "B=20\n",
    "if A<B:\n",
    "    print(\"A is less than B\")\n",
    "else:\n",
    "    print(\"B is less than A\")\n",
    "\n",
    "#for loops \n",
    "\n",
    "iterable=[1,2,3]\n",
    "for x in iterable:\n",
    "    print(x)"
   ]
  },
  {
   "cell_type": "markdown",
   "metadata": {},
   "source": [
    "The ```iterrows()``` method generates an iterator object of the DataFrame, allowing us to iterate each row in the DataFrame. Each iteration produces an index object and a row object (a Pandas Series object)."
   ]
  },
  {
   "cell_type": "code",
   "execution_count": null,
   "metadata": {},
   "outputs": [],
   "source": [
    "# for loop over each row of a dataframe\n",
    "for index, row in edge_df.iterrows():\n",
    "    print(index, row['source'], row['target'])\n"
   ]
  },
  {
   "cell_type": "markdown",
   "metadata": {},
   "source": [
    "**Exercise**: I have a dictionary named ```tweets```. This dataframe has one key ```username``` and another key ```mention```. The value for the key of ```mention``` is a list of usernames. Can you create a dataframe to represent the mentioning relationship between the column of ```username``` and each user being mentioned?\n",
    "\n",
    "| username      | mention |\n",
    "| ----------- | ----------- |\n",
    "| A           | [B,C,D]       |\n",
    "| C           | [A,D]        |\n"
   ]
  },
  {
   "cell_type": "markdown",
   "metadata": {},
   "source": [
    "### 1.5 Functions\n",
    "Functions are prewritten blocks of code that can be invoked to carry out a certain set of actions. For example, print() is a function. You can call functions in multiple ways. \n",
    "- The most intuitive way is to use the function name, followed by parantheses.\n",
    "- Another way is to use \"dot notation\" by placing a period before the name of the function and after a specific object. For example, \n",
    "```\n",
    "target_object.function_name()\n",
    "```\n",
    "- Sometimes we need to provide the function with certain variables or data values. They are called \"parameters\" or \"arguments\". They are passed to the function by putting them within a set of parentheses that follows the function name. For example, \n",
    "```python\n",
    "print(\"Hello!\")\n",
    "```\n",
    "\n",
    "#### 1.5.1 Create Your Own Function\n",
    "In order to tell Python that you would like to create a function, you can use the def keyword. After the def keyword,you provide function name and any arguments you function will make use of. Then you can begin writing the commands.\n",
    "```python\n",
    "def name(parameters):\n",
    "    Code to carry out desired actions.\n",
    "```\n",
    "Your functions will often require another keyword, the **return** keyword, to specify an expression, variable, or value you would like the function to pass back out to the main program once the function has finished running.\n",
    "```python\n",
    "def name(parameters):\n",
    "    Code to carry out desired actions.\n",
    "    return desiredExpression\n",
    "``` \n",
    "\n",
    "If your function returns a value, you can assign that value to a variable by calling the function and assigning it to a variable.\n",
    "\n",
    "```\n",
    "returned_value=function_used(list of parameters)\n",
    "```\n"
   ]
  },
  {
   "cell_type": "markdown",
   "metadata": {},
   "source": [
    "Below is a function ```create_url```. In producing the output, the function of ```.format``` was used. This function allows a placeholder for a text.\n",
    "\n",
    "These examples would help you understand how to use it. The placeholder can be specified by name, number, or not defined.\n",
    "```python\n",
    "txt1 = \"My name is {fname}, I'm {age}\".format(fname = \"John\", age = 36)\n",
    "txt2 = \"My name is {0}, I'm {1}\".format(\"John\",36)\n",
    "txt3 = \"My name is {}, I'm {}\".format(\"John\",36)\n",
    "```\n",
    "With this knowledge, can you predict the output of the following snippet?"
   ]
  },
  {
   "cell_type": "code",
   "execution_count": null,
   "metadata": {},
   "outputs": [],
   "source": [
    "def create_url():\n",
    "    usernames = \"usernames=Grammarly\"\n",
    "    url = \"https://api.twitter.com/2/users/by?{}\".format(usernames)\n",
    "    return url\n",
    "\n",
    "my_url=create_url()\n",
    "print(my_url)"
   ]
  },
  {
   "cell_type": "markdown",
   "metadata": {},
   "source": [
    "## 2. Google Analytics Data Collection\n",
    "\n",
    "Google Analytics provides APIs for others to retrieve data in a flexible way. The flexible report generation is based on the definition of **dimensions** and **metrics**.\n",
    "More information about dimensions and metrics can be found [here](https://support.google.com/analytics/answer/9143382?hl=en#zippy=%2Cattribution%2Cdemographics%2Cecommerce%2Cevent%2Cgaming%2Cgeneral%2Cgeography%2Clink%2Cpage-screen%2Cplatform-device%2Cpublisher%2Ctime%2Ctraffic-source%2Cuser%2Cuser-lifetime%2Cvideo%2Cadvertising%2Cpredictive%2Crevenue%2Csearch-console%2Csession)."
   ]
  },
  {
   "cell_type": "code",
   "execution_count": 14,
   "metadata": {},
   "outputs": [],
   "source": [
    "#!pip3 install google.analytics.data"
   ]
  },
  {
   "cell_type": "markdown",
   "metadata": {},
   "source": [
    "The major package we use is **google.analytics.data**"
   ]
  },
  {
   "cell_type": "code",
   "execution_count": 2,
   "metadata": {},
   "outputs": [],
   "source": [
    "from google.analytics.data_v1beta import BetaAnalyticsDataClient\n",
    "from google.analytics.data_v1beta.types import (\n",
    "    DateRange,\n",
    "    Dimension,\n",
    "    Metric,\n",
    "    RunReportRequest,\n",
    ")\n",
    "import os\n",
    "import pandas as pd\n",
    "import json"
   ]
  },
  {
   "cell_type": "markdown",
   "metadata": {},
   "source": [
    "Below is a function ```sample_run_report```. The parameter is the property id, and the dimensions, metrics, and date_ranges can be specified below."
   ]
  },
  {
   "cell_type": "code",
   "execution_count": 9,
   "metadata": {},
   "outputs": [],
   "source": [
    "def sample_run_report(property_id=\"424145747\"):\n",
    "    \"\"\"Runs a simple report on a Google Analytics 4 property.\"\"\"\n",
    "    os.environ['GOOGLE_APPLICATION_CREDENTIALS'] = 'apt-port-251804-905e08b9e9e3.json'\n",
    "    client = BetaAnalyticsDataClient()\n",
    "\n",
    "    request = RunReportRequest(\n",
    "        property=f\"properties/{property_id}\",\n",
    "        dimensions=[Dimension(name=\"city\"),Dimension(name=\"date\")], #Dimension(name=\"browser\"),\n",
    "        metrics=[Metric(name=\"eventCount\")],\n",
    "        date_ranges=[DateRange(start_date=\"2024-01-01\", end_date=\"today\")],\n",
    "    )\n",
    "    response = client.run_report(request)\n",
    "    return response"
   ]
  },
  {
   "cell_type": "markdown",
   "metadata": {},
   "source": [
    "The default output is json, which we can transform into a dataframe using the following function **response_to_df**."
   ]
  },
  {
   "cell_type": "code",
   "execution_count": 10,
   "metadata": {},
   "outputs": [],
   "source": [
    "def response_to_df(response):\n",
    "    columns = []\n",
    "    rows = []\n",
    "     \n",
    "    for col in response.dimension_headers:\n",
    "        columns.append(col.name)\n",
    "    for col in response.metric_headers:\n",
    "        columns.append(col.name)\n",
    "     \n",
    "    for row_data in response.rows:\n",
    "        row = []\n",
    "        for val in row_data.dimension_values:\n",
    "            row.append(val.value)\n",
    "        for val in row_data.metric_values:\n",
    "            row.append(val.value)\n",
    "        rows.append(row)\n",
    "    return pd.DataFrame(rows, columns=columns)\n"
   ]
  },
  {
   "cell_type": "code",
   "execution_count": 11,
   "metadata": {},
   "outputs": [
    {
     "name": "stdout",
     "output_type": "stream",
     "text": [
      "               city      date eventCount\n",
      "0            Dallas  20240305        315\n",
      "1   University Park  20240311        185\n",
      "2            Dallas  20240312        132\n",
      "3            Dallas  20240302        104\n",
      "4        Richardson  20240304         82\n",
      "5            Dallas  20240221         68\n",
      "6            Dallas  20240303         61\n",
      "7            Dallas  20240222         45\n",
      "8            Dallas  20240306         42\n",
      "9            Dallas  20240311         42\n",
      "10           Dallas  20240310         41\n",
      "11           Dallas  20240304         40\n",
      "12           Dallas  20240314         33\n",
      "13           Dallas  20240220         26\n",
      "14       Richardson  20240221         21\n",
      "15           Dallas  20240309         19\n",
      "16         McKinney  20240309         17\n",
      "17       Richardson  20240124         15\n",
      "18       Richardson  20240120         13\n",
      "19        (not set)  20240203          9\n",
      "20        (not set)  20240313          9\n",
      "21           Dallas  20240313          8\n",
      "22  University Park  20240312          8\n",
      "23        (not set)  20240306          7\n",
      "24             Avon  20240305          7\n",
      "25       Richardson  20240305          7\n",
      "26         Karlstad  20240311          6\n",
      "27       Richardson  20240203          6\n",
      "28          Bedford  20240310          5\n",
      "29           Dallas  20240308          5\n",
      "30           Frisco  20240311          5\n",
      "31          Houston  20240304          5\n",
      "32  University Park  20240202          5\n",
      "33        (not set)  20240124          4\n",
      "34        Abbeville  20240203          4\n",
      "35        Abbeville  20240204          4\n",
      "36      Bloomington  20240124          4\n",
      "37       Richardson  20240130          4\n",
      "38        (not set)  20240305          3\n",
      "39           Dallas  20240216          3\n",
      "40        (not set)  20240125          2\n",
      "41          Bedford  20240311          2\n"
     ]
    }
   ],
   "source": [
    "response=sample_run_report(property_id=\"424145747\")\n",
    "df=response_to_df(response)\n",
    "\n",
    "print(df)"
   ]
  },
  {
   "cell_type": "markdown",
   "metadata": {},
   "source": [
    "## 3. Paired t-test: \n",
    "Used to compare the means of the same group at two different times or under two different conditions."
   ]
  },
  {
   "cell_type": "code",
   "execution_count": 15,
   "metadata": {},
   "outputs": [
    {
     "name": "stdout",
     "output_type": "stream",
     "text": [
      "4     82\n",
      "14    21\n",
      "17    15\n",
      "18    13\n",
      "25     7\n",
      "27     6\n",
      "37     4\n",
      "Name: eventCount, dtype: int32\n",
      "1     185\n",
      "4      82\n",
      "14     21\n",
      "16     17\n",
      "17     15\n",
      "18     13\n",
      "19      9\n",
      "20      9\n",
      "22      8\n",
      "23      7\n",
      "24      7\n",
      "25      7\n",
      "26      6\n",
      "27      6\n",
      "28      5\n",
      "30      5\n",
      "31      5\n",
      "32      5\n",
      "33      4\n",
      "34      4\n",
      "35      4\n",
      "36      4\n",
      "37      4\n",
      "38      3\n",
      "40      2\n",
      "41      2\n",
      "Name: eventCount, dtype: int32\n",
      "T-statistic: 0.2789751962336633, P-value: 0.7821165616840785\n"
     ]
    }
   ],
   "source": [
    "from scipy import stats\n",
    "df['eventCount'] = df['eventCount'].astype(int)\n",
    "\n",
    "\n",
    "group_a = df[df['city'] == 'Richardson']['eventCount']\n",
    "print(group_a)\n",
    "group_b = df[df['city'] != 'Dallas']['eventCount']\n",
    "print(group_b)\n",
    "# Perform the t-test\n",
    "t_stat, p_value = stats.ttest_ind(group_a, group_b)\n",
    "\n",
    "# Output the results\n",
    "print(\"T-statistic: {}, P-value: {}\".format(t_stat,p_value))"
   ]
  }
 ],
 "metadata": {
  "kernelspec": {
   "display_name": "Python 3",
   "language": "python",
   "name": "python3"
  },
  "language_info": {
   "codemirror_mode": {
    "name": "ipython",
    "version": 3
   },
   "file_extension": ".py",
   "mimetype": "text/x-python",
   "name": "python",
   "nbconvert_exporter": "python",
   "pygments_lexer": "ipython3",
   "version": "3.9.13"
  }
 },
 "nbformat": 4,
 "nbformat_minor": 2
}
