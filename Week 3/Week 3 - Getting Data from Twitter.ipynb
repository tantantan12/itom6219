{
 "cells": [
  {
   "cell_type": "markdown",
   "metadata": {},
   "source": [
    "# Week 3 - Collecting X (Formerly Twitter) Data for Predictive Tasks "
   ]
  },
  {
   "cell_type": "markdown",
   "metadata": {},
   "source": [
    "## 1. Twitter Data Collection \n",
    "### X (formerly Twitter) APIs\n",
    "The Twitter API enables programmatic access to Twitter in unique and advanced ways. It used to be free, but now charges a fee of $100 per month. We have a class API that we collectively use. It is based on Twitter API V2. Please only use it for class projects and assignments.\n",
    "\n",
    "[Twitter API Document](https://developer.twitter.com/en/docs/twitter-api)\n",
    "### Workflow\n",
    "Today, we will follow the workflow below to collect data and derive insights about tweet generation.\n",
    "\n",
    "- Step 1: use username to retrieve user ID.\n",
    "- Step 2: use user ID to retrieve Tweets.\n",
    "- Step 3: generate topics from these tweets.\n",
    "- Step 4: run a predictive model to predict outcomes (likes/views).\n",
    "- Step 5: show the feature importance."
   ]
  },
  {
   "cell_type": "markdown",
   "metadata": {},
   "source": [
    "#### 1.1. Retrieve User ID from Username\n",
    "The corresponding document is [here](https://developer.twitter.com/en/docs/twitter-api/users/lookup/api-reference/get-users-by-username-username)."
   ]
  },
  {
   "cell_type": "code",
   "execution_count": 2,
   "metadata": {},
   "outputs": [
    {
     "name": "stdout",
     "output_type": "stream",
     "text": [
      "200\n",
      "        name                   id                created_at  verified  \\\n",
      "0  Grammarly             47191725  2009-06-14T22:23:52.000Z      True   \n",
      "1    copy.ai  1300861660744372230  2020-09-01T18:22:46.000Z     False   \n",
      "\n",
      "                                         description   username  \\\n",
      "0  Good writing moves work forward. #StandWithUkr...  Grammarly   \n",
      "1  Over 10 million people use our ai copywriting ...    copy_ai   \n",
      "\n",
      "   public_metrics.followers_count  public_metrics.following_count  \\\n",
      "0                          235022                            3637   \n",
      "1                           56101                             253   \n",
      "\n",
      "   public_metrics.tweet_count  public_metrics.listed_count  \\\n",
      "0                       41052                         3007   \n",
      "1                         506                          595   \n",
      "\n",
      "   public_metrics.like_count  \n",
      "0                      21794  \n",
      "1                       1081  \n"
     ]
    }
   ],
   "source": [
    "import requests\n",
    "import os\n",
    "import json\n",
    "import pandas as pd\n",
    "\n",
    "# To set your enviornment variables in your terminal run the following line:\n",
    "# export 'BEARER_TOKEN'='<your_bearer_token>'\n",
    "bearer_token ='Ask Jane For It'\n",
    "\n",
    "\n",
    "def create_url():\n",
    "    # Specify the usernames that you want to lookup below\n",
    "    # You can enter up to 100 comma-separated values.\n",
    "    usernames = \"usernames=Grammarly,copy_ai\"\n",
    "    user_fields = \"user.fields=description,created_at,verified,public_metrics,id\"\n",
    "    # User fields are adjustable, options include:\n",
    "    # created_at, description, entities, id, location, name,\n",
    "    # pinned_tweet_id, profile_image_url, protected,\n",
    "    # public_metrics, url, username, verified, and withheld\n",
    "    url = \"https://api.twitter.com/2/users/by?{}&{}\".format(usernames, user_fields)\n",
    "    #Uses curly braces {} as placeholders for the values provided through format().\n",
    "    return url\n",
    "\n",
    "\n",
    "def bearer_oauth(r):\n",
    "    \"\"\"\n",
    "    Method required by bearer token authentication.\n",
    "    \"\"\"\n",
    "\n",
    "    r.headers[\"Authorization\"] = f\"Bearer {bearer_token}\"\n",
    "    r.headers[\"User-Agent\"] = \"v2UserLookupPython\"\n",
    "    return r\n",
    "\n",
    "\n",
    "def connect_to_endpoint(url):\n",
    "    response = requests.request(\"GET\", url, auth=bearer_oauth,)\n",
    "    print(response.status_code)\n",
    "    if response.status_code != 200:\n",
    "        raise Exception(\n",
    "            \"Request returned an error: {} {}\".format(\n",
    "                response.status_code, response.text\n",
    "            )\n",
    "        )\n",
    "    return response.json()\n",
    "\n",
    "\n",
    "def main():\n",
    "    url = create_url()\n",
    "    json_response = connect_to_endpoint(url)\n",
    "    data = json_response['data']\n",
    "    # Normalize the data and create a dataframe\n",
    "    df = pd.json_normalize(data)\n",
    "    print(df)\n",
    "    #print(json.dumps(json_response, indent=4, sort_keys=True))\n",
    "\n",
    "\n",
    "if __name__ == \"__main__\":\n",
    "    main()"
   ]
  },
  {
   "cell_type": "markdown",
   "metadata": {},
   "source": [
    "### 1.2 Collect Tweets with the User IDs \n",
    "\n",
    "The API documents for this step is [here](https://developer.twitter.com/en/docs/twitter-api/tweets/lookup/api-reference/get-tweets-id)."
   ]
  },
  {
   "cell_type": "code",
   "execution_count": 20,
   "metadata": {},
   "outputs": [
    {
     "name": "stdout",
     "output_type": "stream",
     "text": [
      "200\n",
      "                                                 text                   id  \\\n",
      "0   @rachaeldurant We're so glad you appreciate th...  1762201963997823061   \n",
      "1   Faster workflows and smoother communication? N...  1762193341251522797   \n",
      "2   @MCavacini That's what we love to hear! Thanks...  1762046543652118795   \n",
      "3   @JElleman12 @uofnorthgeorgia We welcome educat...  1761057713344110598   \n",
      "4   When the goal is to save time, a confusing mes...  1760787068936974448   \n",
      "..                                                ...                  ...   \n",
      "95  @sandyhubbard That's a lot of words! 🤩 We're h...  1747430685604790711   \n",
      "96  @_dhruv_1 We can help with that: 👉 https://t.c...  1747429725046239669   \n",
      "97  @kimdoyal Here to stroke your ego even further...  1747428851003576612   \n",
      "98  @JamieLSaunders We hope you enjoy and keep war...  1747423696002642228   \n",
      "99  Writing well starts with knowing how you sound...  1747295233614692365   \n",
      "\n",
      "   edit_history_tweet_ids                created_at  \\\n",
      "0   [1762201963997823061]  2024-02-26T19:44:23.000Z   \n",
      "1   [1762193341251522797]  2024-02-26T19:10:07.000Z   \n",
      "2   [1762046543652118795]  2024-02-26T09:26:47.000Z   \n",
      "3   [1761057713344110598]  2024-02-23T15:57:32.000Z   \n",
      "4   [1760787068936974448]  2024-02-22T22:02:05.000Z   \n",
      "..                    ...                       ...   \n",
      "95  [1747430685604790711]  2024-01-17T01:28:35.000Z   \n",
      "96  [1747429725046239669]  2024-01-17T01:24:46.000Z   \n",
      "97  [1747428851003576612]  2024-01-17T01:21:18.000Z   \n",
      "98  [1747423696002642228]  2024-01-17T01:00:49.000Z   \n",
      "99  [1747295233614692365]  2024-01-16T16:30:21.000Z   \n",
      "\n",
      "    public_metrics.retweet_count  public_metrics.reply_count  \\\n",
      "0                              0                           0   \n",
      "1                              2                           1   \n",
      "2                              0                           0   \n",
      "3                              0                           0   \n",
      "4                              1                           0   \n",
      "..                           ...                         ...   \n",
      "95                             1                           0   \n",
      "96                             0                           0   \n",
      "97                             0                           0   \n",
      "98                             0                           0   \n",
      "99                             5                           2   \n",
      "\n",
      "    public_metrics.like_count  public_metrics.quote_count  \\\n",
      "0                           1                           0   \n",
      "1                           6                           0   \n",
      "2                           1                           0   \n",
      "3                           0                           0   \n",
      "4                           7                           0   \n",
      "..                        ...                         ...   \n",
      "95                          1                           0   \n",
      "96                          0                           0   \n",
      "97                          1                           0   \n",
      "98                          1                           0   \n",
      "99                         15                           1   \n",
      "\n",
      "    public_metrics.bookmark_count  public_metrics.impression_count  \n",
      "0                               0                               21  \n",
      "1                               0                             2218  \n",
      "2                               0                                7  \n",
      "3                               0                               28  \n",
      "4                               1                             2492  \n",
      "..                            ...                              ...  \n",
      "95                              0                               97  \n",
      "96                              0                               27  \n",
      "97                              0                               19  \n",
      "98                              0                               36  \n",
      "99                              2                             3122  \n",
      "\n",
      "[100 rows x 10 columns]\n"
     ]
    }
   ],
   "source": [
    "import requests\n",
    "import os\n",
    "import json\n",
    "import pandas as pd\n",
    "\n",
    "######################\n",
    "####Authentication####\n",
    "######################\n",
    "bearer_token ='AAAAAAAAAAAAAAAAAAAAAA7fGwEAAAAATek8qNEHmKiwy5NeLLGGLu%2FOllc%3DvMI6a81TOlLcj6fthUgm5xT66tHGcKYcklMRLcRZjxQBKpqWJp'\n",
    "\n",
    "def create_url():\n",
    "    # Replace with user ID below\n",
    "    user_id = 47191725\n",
    "    return \"https://api.twitter.com/2/users/{}/tweets\".format(user_id)\n",
    "\n",
    "\n",
    "def get_params():\n",
    "    # Tweet fields are adjustable.\n",
    "    # Options include:\n",
    "    # attachments, author_id, context_annotations,\n",
    "    # conversation_id, created_at, entities, geo, id,\n",
    "    # in_reply_to_user_id, lang, non_public_metrics, organic_metrics,\n",
    "    # possibly_sensitive, promoted_metrics, public_metrics, referenced_tweets,\n",
    "    # source, text, and withheld\n",
    "    return {\"tweet.fields\": \"created_at,public_metrics\"}\n",
    "\n",
    "\n",
    "def bearer_oauth(r):\n",
    "    \"\"\"\n",
    "    Method required by bearer token authentication.\n",
    "    \"\"\"\n",
    "    r.headers[\"Authorization\"] = f\"Bearer {bearer_token}\"\n",
    "    r.headers[\"User-Agent\"] = \"v2UserTweetsPython\"\n",
    "    return r\n",
    "\n",
    "\n",
    "def connect_to_endpoint(url, params):\n",
    "    response = requests.request(\"GET\", url, auth=bearer_oauth, params=params)\n",
    "    print(response.status_code)\n",
    "    if response.status_code != 200:\n",
    "        raise Exception(\n",
    "            \"Request returned an error: {} {}\".format(\n",
    "                response.status_code, response.text\n",
    "            )\n",
    "        )\n",
    "    return response.json()\n",
    "\n",
    "\n",
    "def main():\n",
    "    url = create_url()\n",
    "    params = get_params()\n",
    "    json_response = connect_to_endpoint(url, params)\n",
    "    # Extract \"data\" key from JSON\n",
    "    data = json_response['data']\n",
    "    # Normalize the data and create a dataframe\n",
    "    df = pd.json_normalize(data)\n",
    "    print(df)\n",
    "    # Save the DataFrame to a CSV file\n",
    "    filename = 'tweets.csv'  # Specify the path and filename\n",
    "    df.to_csv(filename, index=False)  # index=False means do not write row indices\n",
    "    #print(json.dumps(json_response, indent=4, sort_keys=True))\n",
    "\n",
    "\n",
    "if __name__ == \"__main__\":\n",
    "    main()"
   ]
  },
  {
   "cell_type": "markdown",
   "metadata": {},
   "source": [
    "## 2.Topic Modeling"
   ]
  },
  {
   "cell_type": "code",
   "execution_count": 3,
   "metadata": {},
   "outputs": [
    {
     "name": "stdout",
     "output_type": "stream",
     "text": [
      "Topic #0:\n",
      "thanks feature fan writing\n",
      "Topic #1:\n",
      "https teams help know\n",
      "Topic #2:\n",
      "work awesome faster just\n",
      "Topic #3:\n",
      "love hear doxdox say\n",
      "Topic #4:\n",
      "like feedback said hear\n",
      "Topic #5:\n",
      "writing sound journey help\n",
      "Topic #6:\n",
      "communication business report 2024\n",
      "Topic #7:\n",
      "sharing know thanks helpful\n",
      "Topic #8:\n",
      "thank thrilled community kind\n",
      "Topic #9:\n",
      "way words lot flow\n",
      "Topic #10:\n",
      "happy hear enjoy _opelo\n",
      "Topic #11:\n",
      "students institutions ai success\n",
      "Topic #12:\n",
      "sandyhubbard sandy community lot\n",
      "Topic #13:\n",
      "great job work writing\n",
      "Topic #14:\n",
      "time calendly save grammarly\n",
      "Topic #15:\n",
      "job wow awesome know\n",
      "Topic #16:\n",
      "glad thebrewergame yay journey\n",
      "Topic #17:\n",
      "company people connection countless\n",
      "Topic #18:\n",
      "buddyxo eye ve year\n",
      "Topic #19:\n",
      "shout thanks hear thrilled\n"
     ]
    },
    {
     "name": "stderr",
     "output_type": "stream",
     "text": [
      "C:\\Users\\Xue Tan\\AppData\\Local\\Packages\\PythonSoftwareFoundation.Python.3.9_qbz5n2kfra8p0\\LocalCache\\local-packages\\Python39\\site-packages\\sklearn\\decomposition\\_nmf.py:289: FutureWarning: The 'init' value, when 'init=None' and n_components is less than n_samples and n_features, will be changed from 'nndsvd' to 'nndsvda' in 1.1 (renaming of 0.26).\n",
      "  warnings.warn(\n",
      "C:\\Users\\Xue Tan\\AppData\\Local\\Packages\\PythonSoftwareFoundation.Python.3.9_qbz5n2kfra8p0\\LocalCache\\local-packages\\Python39\\site-packages\\sklearn\\decomposition\\_nmf.py:289: FutureWarning: The 'init' value, when 'init=None' and n_components is less than n_samples and n_features, will be changed from 'nndsvd' to 'nndsvda' in 1.1 (renaming of 0.26).\n",
      "  warnings.warn(\n"
     ]
    }
   ],
   "source": [
    "from sklearn.feature_extraction.text import TfidfVectorizer\n",
    "from sklearn.decomposition import NMF\n",
    "import numpy as np\n",
    "\n",
    "# Sample documents (same as above)\n",
    "import pandas as pd\n",
    "\n",
    "# Replace 'your_file.csv' with the path to your CSV file\n",
    "file_path = 'tweets.csv'\n",
    "df = pd.read_csv(file_path)\n",
    "docs = df['text']\n",
    "\n",
    "# TF-IDF Vectorization\n",
    "tfidf_vectorizer = TfidfVectorizer(max_df=0.95, min_df=2, stop_words='english')\n",
    "tfidf = tfidf_vectorizer.fit_transform(docs)\n",
    "\n",
    "# Apply NMF\n",
    "nmf_model = NMF(n_components=20, random_state=42)\n",
    "nmf_model.fit(tfidf)\n",
    "W = nmf_model.fit_transform(tfidf)  # Document-topic matrix\n",
    "\n",
    "# Display topics\n",
    "feature_names = tfidf_vectorizer.get_feature_names_out()\n",
    "topic_names=[]\n",
    "for topic_idx, topic in enumerate(nmf_model.components_):\n",
    "    print(f\"Topic #{topic_idx}:\")\n",
    "    print(\" \".join([feature_names[i] for i in topic.argsort()[:-4 - 1:-1]]))\n",
    "    topic_names.append(\" \".join([feature_names[i] for i in topic.argsort()[:-4 - 1:-1]]))"
   ]
  },
  {
   "cell_type": "markdown",
   "metadata": {},
   "source": [
    "## 3.Predictive Analytics"
   ]
  },
  {
   "cell_type": "markdown",
   "metadata": {},
   "source": [
    "### 3.1 Outcome"
   ]
  },
  {
   "cell_type": "code",
   "execution_count": 4,
   "metadata": {},
   "outputs": [],
   "source": [
    "import numpy as np\n",
    "df['log_view']=np.log1p(df['public_metrics.impression_count'])  \n",
    "# Create a new column 'LogPlusOne' which is the log(value + 1) of the 'Value' column"
   ]
  },
  {
   "cell_type": "markdown",
   "metadata": {},
   "source": [
    "### 3.2 Data Partition"
   ]
  },
  {
   "cell_type": "code",
   "execution_count": 5,
   "metadata": {},
   "outputs": [],
   "source": [
    "from sklearn.ensemble import RandomForestRegressor\n",
    "from sklearn.datasets import load_boston\n",
    "from sklearn.model_selection import train_test_split\n",
    "from sklearn.metrics import mean_squared_error\n",
    "# Assuming `y` is your target variable array\n",
    "X_train, X_test, y_train, y_test = train_test_split(W, df['public_metrics.like_count'], test_size=0.2, random_state=42)\n",
    "#X_train, X_test, y_train, y_test = train_test_split(W, df['log_view'], test_size=0.2, random_state=42)\n"
   ]
  },
  {
   "cell_type": "markdown",
   "metadata": {},
   "source": [
    "### 3.3 Train Model"
   ]
  },
  {
   "cell_type": "code",
   "execution_count": 6,
   "metadata": {},
   "outputs": [
    {
     "data": {
      "text/plain": [
       "RandomForestRegressor(random_state=42)"
      ]
     },
     "execution_count": 6,
     "metadata": {},
     "output_type": "execute_result"
    }
   ],
   "source": [
    "# Initialize the RandomForestRegressor\n",
    "regressor = RandomForestRegressor(n_estimators=100, random_state=42)\n",
    "\n",
    "# Train the model\n",
    "regressor.fit(X_train, y_train)"
   ]
  },
  {
   "cell_type": "markdown",
   "metadata": {},
   "source": [
    "### 3.4 Prediction"
   ]
  },
  {
   "cell_type": "code",
   "execution_count": 7,
   "metadata": {},
   "outputs": [
    {
     "name": "stdout",
     "output_type": "stream",
     "text": [
      "Mean Squared Error: 43.15422769476564\n",
      "Root Mean Squared Error: 6.569187750001185\n"
     ]
    }
   ],
   "source": [
    "# Make predictions and evaluate the model\n",
    "predictions = regressor.predict(X_test)\n",
    "# Evaluate the model\n",
    "mse = mean_squared_error(y_test, predictions)\n",
    "rmse = np.sqrt(mse)\n",
    "\n",
    "print(f\"Mean Squared Error: {mse}\")\n",
    "print(f\"Root Mean Squared Error: {rmse}\")"
   ]
  },
  {
   "cell_type": "code",
   "execution_count": 8,
   "metadata": {},
   "outputs": [
    {
     "name": "stdout",
     "output_type": "stream",
     "text": [
      "Mean Squared Error: 158.1722303771392\n",
      "Root Mean Squared Error: 12.576654180549738\n"
     ]
    }
   ],
   "source": [
    "# Baseline - Linear Regression\n",
    "import statsmodels.api as sm\n",
    "\n",
    "linear_regression = sm.OLS(y_train, X_train)\n",
    "linear_regression = linear_regression.fit()\n",
    "predictions = linear_regression.predict(X_test)\n",
    "mse = mean_squared_error(y_test, predictions)\n",
    "rmse = np.sqrt(mse)\n",
    "\n",
    "print(f\"Mean Squared Error: {mse}\")\n",
    "print(f\"Root Mean Squared Error: {rmse}\")"
   ]
  },
  {
   "cell_type": "markdown",
   "metadata": {},
   "source": [
    "### 3.5 Feature Importance"
   ]
  },
  {
   "cell_type": "code",
   "execution_count": 79,
   "metadata": {},
   "outputs": [
    {
     "data": {
      "text/plain": [
       "shout thanks hear thrilled             0.000028\n",
       "happy hear enjoy _opelo                0.000114\n",
       "buddyxo eye ve year                    0.002481\n",
       "glad thebrewergame yay journey         0.002513\n",
       "great job work writing                 0.003289\n",
       "sandyhubbard sandy community lot       0.003986\n",
       "thanks feature fan writing             0.006925\n",
       "job wow awesome know                   0.007070\n",
       "love hear doxdox say                   0.016281\n",
       "like feedback said hear                0.016698\n",
       "sharing know thanks helpful            0.019109\n",
       "way words lot flow                     0.029435\n",
       "students institutions ai success       0.039127\n",
       "thank thrilled community kind          0.076784\n",
       "writing sound journey help             0.082623\n",
       "time calendly save grammarly           0.102680\n",
       "communication business report 2024     0.105482\n",
       "work awesome faster just               0.110978\n",
       "company people connection countless    0.180307\n",
       "https teams help know                  0.194090\n",
       "dtype: float64"
      ]
     },
     "execution_count": 79,
     "metadata": {},
     "output_type": "execute_result"
    },
    {
     "data": {
      "image/png": "[encoded data removed]",
      "text/plain": [
       "<Figure size 432x288 with 1 Axes>"
      ]
     },
     "metadata": {
      "needs_background": "light"
     },
     "output_type": "display_data"
    }
   ],
   "source": [
    "from matplotlib import pyplot as plt\n",
    "#feature_names = [f\"feature {i}\" for i in range(W.shape[1])]\n",
    "global_importances = pd.Series(regressor.feature_importances_, index=topic_names)\n",
    "global_importances.sort_values(ascending=True, inplace=True)\n",
    "global_importances.plot.barh(color='green')\n",
    "plt.xlabel(\"Importance\")\n",
    "plt.ylabel(\"Feature\")\n",
    "plt.title(\"Feature Importance - Like\")\n",
    "global_importances"
   ]
  }
 ],
 "metadata": {
  "kernelspec": {
   "display_name": "Python 3",
   "language": "python",
   "name": "python3"
  },
  "language_info": {
   "codemirror_mode": {
    "name": "ipython",
    "version": 3
   },
   "file_extension": ".py",
   "mimetype": "text/x-python",
   "name": "python",
   "nbconvert_exporter": "python",
   "pygments_lexer": "ipython3",
   "version": "3.9.6"
  }
 },
 "nbformat": 4,
 "nbformat_minor": 2
}
