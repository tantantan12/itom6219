{
 "cells": [
  {
   "cell_type": "markdown",
   "metadata": {},
   "source": [
    "# Week 5 - AB Testing"
   ]
  },
  {
   "cell_type": "markdown",
   "metadata": {},
   "source": [
    "Google Analytics provides APIs for others to retrieve data in a flexible way. The flexible report generation is based on the definition of **dimensions** and **metrics**.\n",
    "More information about dimensions and metrics can be found [here](https://developers.google.com/analytics/devguides/reporting/data/v1/api-schema). More information about how to generate reports can be found [here](https://developers.google.com/analytics/devguides/reporting/data/v1/basics#python_3)."
   ]
  },
  {
   "cell_type": "markdown",
   "metadata": {},
   "source": [
    "# 1. Import Packages"
   ]
  },
  {
   "cell_type": "code",
   "execution_count": 6,
   "metadata": {},
   "outputs": [],
   "source": [
    "from google.analytics.data_v1beta import BetaAnalyticsDataClient\n",
    "from google.analytics.data_v1beta.types import (\n",
    "    DateRange,\n",
    "    Dimension,\n",
    "    Metric,\n",
    "    RunReportRequest,\n",
    "    Filter,\n",
    "    FilterExpression,\n",
    ")\n",
    "import os\n",
    "import pandas as pd\n",
    "import json"
   ]
  },
  {
   "cell_type": "markdown",
   "metadata": {},
   "source": [
    "# 2 Report Generation\n",
    "Below is a function ```sample_run_report```. The parameter is the property id, and the dimensions, metrics, and date_ranges can be specified below."
   ]
  },
  {
   "cell_type": "markdown",
   "metadata": {},
   "source": [
    "## 2.1 Conversion Report\n",
    "The report below collects collects event sessions by experimental group"
   ]
  },
  {
   "cell_type": "code",
   "execution_count": 1,
   "metadata": {},
   "outputs": [],
   "source": [
    "def sample_run_report_conversion(property_id=\"424145747\"):\n",
    "    \"\"\"Runs a simple report on a Google Analytics 4 property.\"\"\"\n",
    "    os.environ['GOOGLE_APPLICATION_CREDENTIALS'] = 'apt-port-251804-905e08b9e9e3.json'\n",
    "    client = BetaAnalyticsDataClient()\n",
    "    request = RunReportRequest(\n",
    "        property=\"properties/{}\".format(property_id),\n",
    "        dimensions=[Dimension(name=\"campaignName\"),Dimension(name=\"eventName\"),Dimension(name=\"date\")], #Dimension(name=\"sessionCampaignName\"),\n",
    "        metrics=[Metric(name=\"sessions\")],\n",
    "        date_ranges=[DateRange(start_date=\"2024-01-01\", end_date=\"today\")],\n",
    "         dimension_filter=FilterExpression(\n",
    "            filter=Filter(\n",
    "                field_name=\"campaignName\",\n",
    "                in_list_filter=Filter.InListFilter(\n",
    "                    values=[\n",
    "                        \"main\",\n",
    "                        \"experiment\"\n",
    "                    ]\n",
    "                ),\n",
    "            )\n",
    "        ),\n",
    "    )\n",
    "    response = client.run_report(request)\n",
    "    return response"
   ]
  },
  {
   "cell_type": "markdown",
   "metadata": {},
   "source": [
    "## 2.2 Session Report\n",
    "The report below shows all experimental sessions:"
   ]
  },
  {
   "cell_type": "code",
   "execution_count": 2,
   "metadata": {},
   "outputs": [],
   "source": [
    "def sample_run_report_session(property_id=\"424145747\"):\n",
    "    \"\"\"Runs a simple report on a Google Analytics 4 property.\"\"\"\n",
    "    os.environ['GOOGLE_APPLICATION_CREDENTIALS'] = 'apt-port-251804-905e08b9e9e3.json'\n",
    "    client = BetaAnalyticsDataClient()\n",
    "    request = RunReportRequest(\n",
    "        property=\"properties/{}\".format(property_id),\n",
    "        dimensions=[Dimension(name=\"customEvent:Branch\"),Dimension(name=\"date\")], #Dimension(name=\"sessionCampaignName\"),\n",
    "        metrics=[Metric(name=\"sessions\")],\n",
    "        date_ranges=[DateRange(start_date=\"2024-01-01\", end_date=\"today\")],\n",
    "          dimension_filter=FilterExpression(\n",
    "            filter=Filter(\n",
    "                field_name=\"customEvent:Branch\",\n",
    "                in_list_filter=Filter.InListFilter(\n",
    "                    values=[\n",
    "                        \"main\",\n",
    "                        \"experiment\"\n",
    "                    ]\n",
    "                ),\n",
    "            )\n",
    "        ),\n",
    "    )\n",
    "    response = client.run_report(request)\n",
    "    return response"
   ]
  },
  {
   "cell_type": "markdown",
   "metadata": {},
   "source": [
    "# 3 Data Conversion\n",
    "The default output is json, which we can transform into a dataframe using the following function **response_to_df**."
   ]
  },
  {
   "cell_type": "code",
   "execution_count": 7,
   "metadata": {},
   "outputs": [],
   "source": [
    "def response_to_df(response):\n",
    "    columns = []\n",
    "    rows = []\n",
    "     \n",
    "    for col in response.dimension_headers:\n",
    "        columns.append(col.name)\n",
    "    for col in response.metric_headers:\n",
    "        columns.append(col.name)\n",
    "     \n",
    "    for row_data in response.rows:\n",
    "        row = []\n",
    "        for val in row_data.dimension_values:\n",
    "            row.append(val.value)\n",
    "        for val in row_data.metric_values:\n",
    "            row.append(val.value)\n",
    "        rows.append(row)\n",
    "    return pd.DataFrame(rows, columns=columns)\n"
   ]
  },
  {
   "cell_type": "markdown",
   "metadata": {},
   "source": [
    "# 4 Data Collection Pipeline\n",
    "\n",
    "## 4.1 Conversion Data\n",
    "The code below shows the main pipeline of this task."
   ]
  },
  {
   "cell_type": "code",
   "execution_count": 8,
   "metadata": {},
   "outputs": [
    {
     "name": "stdout",
     "output_type": "stream",
     "text": [
      "   campaignName eventName      date sessions\n",
      "0    experiment    submit  20240311        6\n",
      "1    experiment     again  20240311        4\n",
      "2    experiment    submit  20240305        3\n",
      "3          main    submit  20240322        3\n",
      "4    experiment     again  20240305        2\n",
      "5    experiment    submit  20240309        2\n",
      "6    experiment    submit  20240310        2\n",
      "7    experiment    submit  20240322        2\n",
      "8          main     again  20240305        2\n",
      "9          main    submit  20240305        2\n",
      "10   experiment     again  20240309        1\n",
      "11         main     again  20240309        1\n",
      "12         main    submit  20240309        1\n"
     ]
    }
   ],
   "source": [
    "response=sample_run_report_conversion(property_id=\"424145747\")\n",
    "df1=response_to_df(response)\n",
    "print(df1)\n",
    "\n",
    "# change the column name from  campaignName to customEvent:Branch\n",
    "df1.rename(columns={'campaignName': 'customEvent:Branch'}, inplace=True)\n",
    "# Only look at submit\n",
    "df1 = df1[df1['eventName'] == 'submit']"
   ]
  },
  {
   "cell_type": "markdown",
   "metadata": {},
   "source": [
    "## 4.2 Session Data"
   ]
  },
  {
   "cell_type": "code",
   "execution_count": 9,
   "metadata": {},
   "outputs": [
    {
     "name": "stdout",
     "output_type": "stream",
     "text": [
      "   customEvent:Branch      date sessions\n",
      "0                main  20240318       20\n",
      "1          experiment  20240311       14\n",
      "2                main  20240311       12\n",
      "3          experiment  20240305        6\n",
      "4                main  20240322        6\n",
      "5                main  20240305        5\n",
      "6          experiment  20240310        4\n",
      "7                main  20240312        4\n",
      "8                main  20240313        4\n",
      "9                main  20240401        4\n",
      "10               main  20240304        3\n",
      "11               main  20240323        3\n",
      "12               main  20240324        3\n",
      "13               main  20240328        3\n",
      "14         experiment  20240304        2\n",
      "15         experiment  20240306        2\n",
      "16         experiment  20240309        2\n",
      "17         experiment  20240312        2\n",
      "18               main  20240306        2\n",
      "19               main  20240310        2\n",
      "20               main  20240316        2\n",
      "21               main  20240317        2\n",
      "22               main  20240319        2\n",
      "23               main  20240329        2\n",
      "24               main  20240308        1\n",
      "25               main  20240309        1\n",
      "26               main  20240314        1\n",
      "27               main  20240315        1\n",
      "28               main  20240320        1\n",
      "29               main  20240321        1\n",
      "30               main  20240330        1\n",
      "31               main  20240402        1\n",
      "32               main  20240403        1\n"
     ]
    }
   ],
   "source": [
    "response=sample_run_report_session(property_id=\"424145747\")\n",
    "df2=response_to_df(response)\n",
    "print(df2)"
   ]
  },
  {
   "cell_type": "markdown",
   "metadata": {},
   "source": [
    "# 5. Hypothesis Testing "
   ]
  },
  {
   "attachments": {
    "left-outer-join-operation.png": {
     "image/png": "[encoded data removed]"
    }
   },
   "cell_type": "markdown",
   "metadata": {},
   "source": [
    "## 5.1 Prepare Data\n",
    "To combine the two datasets, we used a merge function:\n",
    "\n",
    "![left-outer-join-operation.png](attachment:left-outer-join-operation.png)"
   ]
  },
  {
   "cell_type": "code",
   "execution_count": 11,
   "metadata": {},
   "outputs": [
    {
     "name": "stdout",
     "output_type": "stream",
     "text": [
      "The difference is statistically significant.\n",
      "Control Group Mean: 0.07307692307692307\n",
      "Treatment Group Mean: 0.34693877551020413\n",
      "P-Value: 0.01949426210778139\n",
      "Relative Difference: 3.747583243823847\n",
      "Lower Bound for Difference: 0.04616409698665924\n",
      "Upper Bound for Difference: 7.449002390661034\n"
     ]
    }
   ],
   "source": [
    "from scipy import stats\n",
    "import numpy as np\n",
    "\n",
    "# the merge function can combine two dataframes based on keywords. A left \n",
    "merged_df = pd.merge(df2, df1, on=['date', 'customEvent:Branch'], how='left')\n",
    "\n",
    "merged_df.fillna(0, inplace=True)\n",
    "\n",
    "# calculate the ratio between submission sessions and all sessions per day.\n",
    "merged_df['submit_session_ratio_per_day']=merged_df['sessions_y'].astype(int)/merged_df['sessions_x'].astype(int)\n",
    "\n",
    "# extract data for control\n",
    "control = merged_df[merged_df['customEvent:Branch'] == 'main']['submit_session_ratio_per_day']\n",
    "# extract data for treatment \n",
    "treatment =merged_df[merged_df['customEvent:Branch'] == 'experiment']['submit_session_ratio_per_day']\n",
    "\n",
    "n_control=len(control)\n",
    "n_treatment=len(treatment)\n",
    "\n",
    "# Calculate sample means for both groups\n",
    "mean_control = np.mean(control)\n",
    "mean_treatment = np.mean(treatment)\n",
    "\n",
    "# Calculate sample variance for both groups\n",
    "var_control = np.var(control)\n",
    "var_treatment = np.var(treatment)\n",
    "t_stat, p_value = stats.ttest_ind(treatment, control)\n",
    "# Define significance level\n",
    "alpha = 0.05\n",
    "confidence_level=1-alpha\n",
    "relative_difference = (mean_treatment - mean_control) / mean_control\n",
    "se_relative_difference = np.sqrt((var_control / n_control + var_treatment / n_treatment) / mean_control**2)\n",
    "z_critical = stats.norm.ppf((1 + confidence_level) / 2)\n",
    "lower_bound = relative_difference - z_critical * se_relative_difference\n",
    "upper_bound = relative_difference + z_critical * se_relative_difference\n",
    "\n",
    "# Check if the difference is statistically significant\n",
    "if p_value < alpha:\n",
    "    print(\"The difference is statistically significant.\")\n",
    "else:\n",
    "    print(\"The difference is not statistically significant.\")\n",
    "\n",
    "# Output the results\n",
    "print(f\"Control Group Mean: {mean_control}\")\n",
    "print(f\"Treatment Group Mean: {mean_treatment}\")\n",
    "print(f\"P-Value: {p_value}\")\n",
    "print(f\"Relative Difference: {relative_difference}\")\n",
    "print(f\"Lower Bound for Difference: {lower_bound}\")\n",
    "print(f\"Upper Bound for Difference: {upper_bound}\")"
   ]
  },
  {
   "cell_type": "markdown",
   "metadata": {},
   "source": [
    "# Practice\n",
    "Compare the session numbers for the two campaigns: one with medium being \"announcement\" and the other with medium being \"canvas\"."
   ]
  },
  {
   "cell_type": "code",
   "execution_count": 83,
   "metadata": {},
   "outputs": [],
   "source": [
    "# Practice\n",
    "def sample_run_report_practice(property_id=\"424145747\"):\n",
    "    \"\"\"Runs a simple report on a Google Analytics 4 property.\"\"\"\n",
    "    os.environ['GOOGLE_APPLICATION_CREDENTIALS'] = 'apt-port-251804-905e08b9e9e3.json'\n",
    "    client = BetaAnalyticsDataClient()\n",
    "    request = RunReportRequest(\n",
    "        property=\"properties/{}\".format(property_id),\n",
    "        dimensions=[Dimension(name=\"source\"),Dimension(name=\"medium\"),Dimension(name=\"date\")], #Dimension(name=\"sessionCampaignName\"),\n",
    "        metrics=[Metric(name=\"sessions\")],\n",
    "        date_ranges=[DateRange(start_date=\"2024-01-01\", end_date=\"today\")],\n",
    "         dimension_filter=FilterExpression(\n",
    "            filter=Filter(\n",
    "                field_name=\"source\",\n",
    "                in_list_filter=Filter.InListFilter(\n",
    "                    values=[\n",
    "                        \"social\"\n",
    "                    ]\n",
    "                ),\n",
    "            )\n",
    "        ),\n",
    "    )\n",
    "    response = client.run_report(request)\n",
    "    return response"
   ]
  },
  {
   "cell_type": "code",
   "execution_count": 87,
   "metadata": {},
   "outputs": [
    {
     "name": "stdout",
     "output_type": "stream",
     "text": [
      "   source        medium      date sessions\n",
      "0  social        canvas  20240311        3\n",
      "1  social  announcement  20240310        2\n",
      "2  social        canvas  20240309        2\n",
      "3  social  announcement  20240309        1\n",
      "4  social  announcement  20240311        1\n",
      "5  social  announcement  20240322        1\n",
      "6  social        canvas  20240322        1\n"
     ]
    }
   ],
   "source": [
    "response=sample_run_report_practice(property_id=\"424145747\")\n",
    "df=response_to_df(response)\n",
    "print(df)"
   ]
  },
  {
   "cell_type": "code",
   "execution_count": 90,
   "metadata": {},
   "outputs": [
    {
     "name": "stdout",
     "output_type": "stream",
     "text": [
      "The difference is not statistically significant.\n",
      "Control Group Mean: 2.0\n",
      "Treatment Group Mean: 1.25\n",
      "P-Value: 0.2427680009919807\n"
     ]
    }
   ],
   "source": [
    "# Hypothesis testing\n",
    "\n",
    "control = df[df['medium'] == 'canvas']['sessions'].astype(int)\n",
    "# extract data for treatment \n",
    "treatment =df[df['medium'] == 'announcement']['sessions'].astype(int)\n",
    "\n",
    "\n",
    "mean_control = #complete the code\n",
    "mean_treatment = #complete the code\n",
    "\n",
    "# Calculate sample standard deviations for both groups\n",
    "std_control = #complete the code\n",
    "std_treatment = #complete the code\n",
    "\n",
    "\n",
    "t_stat, p_value = stats.ttest_ind(\n",
    "    #complete the code\n",
    "    )\n",
    "\n",
    "# Define significance level\n",
    "alpha = 0.05\n",
    "\n",
    "# Check if the difference is statistically significant\n",
    "if p_value < alpha:\n",
    "    print(\"The difference is statistically significant.\")\n",
    "else:\n",
    "    print(\"The difference is not statistically significant.\")\n",
    "\n",
    "# Output the results\n",
    "print(f\"Control Group Mean: {mean_control}\")\n",
    "print(f\"Treatment Group Mean: {mean_treatment}\")\n",
    "print(f\"P-Value: {p_value}\")"
   ]
  }
 ],
 "metadata": {
  "kernelspec": {
   "display_name": "Python 3",
   "language": "python",
   "name": "python3"
  },
  "language_info": {
   "codemirror_mode": {
    "name": "ipython",
    "version": 3
   },
   "file_extension": ".py",
   "mimetype": "text/x-python",
   "name": "python",
   "nbconvert_exporter": "python",
   "pygments_lexer": "ipython3",
   "version": "3.9.13"
  }
 },
 "nbformat": 4,
 "nbformat_minor": 2
}
