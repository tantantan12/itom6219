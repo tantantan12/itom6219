{
 "cells": [
  {
   "cell_type": "code",
   "execution_count": null,
   "metadata": {},
   "outputs": [],
   "source": [
    "# Week 6 - AB Test"
   ]
  },
  {
   "cell_type": "code",
   "execution_count": null,
   "metadata": {},
   "outputs": [],
   "source": [
    "from google.analytics.data_v1beta import BetaAnalyticsDataClient\n",
    "from google.analytics.data_v1beta.types import (\n",
    "    DateRange,\n",
    "    Dimension,\n",
    "    Metric,\n",
    "    RunReportRequest,\n",
    "    Filter,\n",
    "    FilterExpression,\n",
    ")\n",
    "import os\n",
    "import pandas as pd\n",
    "import json\n",
    "import scipy.stats as st \n",
    "import numpy as np\n",
    "\n",
    "!pip3 install pingouin\n",
    "from pingouin import ttest"
   ]
  },
  {
   "cell_type": "markdown",
   "metadata": {},
   "source": [
    "# Project 1\n",
    "Compare the session numbers for the two campaigns: one with medium being \"announcement\" and the other with medium being \"canvas\". Perform statistical tests to compare the difference.\n",
    "\n",
    "Please make sure to download \"apt-port-251804-905e08b9e9e3.json\" to the working folder."
   ]
  },
  {
   "cell_type": "markdown",
   "metadata": {},
   "source": [
    "## Problem 1.1\n",
    "\n",
    "construct the function sample_run_report:\n",
    "- keep dimensions: source, medium, date\n",
    "- keep metric: sessions\n",
    "- date range: start_date=\"2024-01-01\", end_date=\"today\"\n",
    "- dimension filter: \"source\"=\"social\""
   ]
  },
  {
   "cell_type": "code",
   "execution_count": null,
   "metadata": {},
   "outputs": [],
   "source": [
    "def sample_run_report(property_id=\"424145747\"):\n",
    "    \"\"\"Runs a simple report on a Google Analytics 4 property.\"\"\"\n",
    "    os.environ['GOOGLE_APPLICATION_CREDENTIALS'] = 'apt-port-251804-905e08b9e9e3.json'\n",
    "    client = BetaAnalyticsDataClient()\n",
    "    request = RunReportRequest(\n",
    "        property=\"properties/{}\".format(property_id),\n",
    "        dimensions=## Please complete the code\n",
    "        metrics=## Please complete the code\n",
    "        date_ranges=[DateRange(start_date=\"2024-01-01\", end_date=\"today\")],\n",
    "         dimension_filter=FilterExpression(\n",
    "            filter=Filter(\n",
    "                field_name=\"source\",\n",
    "                in_list_filter=Filter.InListFilter(\n",
    "                    values=[\n",
    "                        \"social\"\n",
    "                    ]\n",
    "                ),\n",
    "            )\n",
    "        ),\n",
    "    )\n",
    "    response = client.run_report(request)\n",
    "    return response"
   ]
  },
  {
   "cell_type": "markdown",
   "metadata": {},
   "source": [
    "## Problem 1.2 Convert the resulting data into a dataframe"
   ]
  },
  {
   "cell_type": "code",
   "execution_count": null,
   "metadata": {},
   "outputs": [],
   "source": [
    "def response_to_df(response):\n",
    "    columns = []\n",
    "    rows = []\n",
    "     \n",
    "    for col in response.dimension_headers:\n",
    "        columns.append(col.name)\n",
    "    for col in response.metric_headers:\n",
    "        columns.append(col.name)\n",
    "     \n",
    "    for row_data in response.rows:\n",
    "        row = []\n",
    "        for val in row_data.dimension_values:\n",
    "            row.append(val.value)\n",
    "        for val in row_data.metric_values:\n",
    "            row.append(val.value)\n",
    "        rows.append(row)\n",
    "    return pd.DataFrame(rows, columns=columns)\n",
    "\n",
    "\n",
    "\n",
    "response=## Please complete the code\n",
    "df=response_to_df(response)\n",
    "print(df)"
   ]
  },
  {
   "cell_type": "markdown",
   "metadata": {},
   "source": [
    "## Problem 1.3 Prepare Data"
   ]
  },
  {
   "cell_type": "code",
   "execution_count": null,
   "metadata": {},
   "outputs": [],
   "source": [
    "canvas = df[df['medium'] == 'canvas']['sessions'].astype(int)\n",
    " \n",
    "announcement =## Please complete the code"
   ]
  },
  {
   "cell_type": "markdown",
   "metadata": {},
   "source": [
    "## Problem 1.4 Run Student's T-test and Welch's T-test."
   ]
  },
  {
   "cell_type": "markdown",
   "metadata": {},
   "source": [
    "## Problem 1.5 Compare the tests and make conclusions."
   ]
  },
  {
   "cell_type": "markdown",
   "metadata": {},
   "source": []
  },
  {
   "cell_type": "markdown",
   "metadata": {},
   "source": [
    "## Problem 1.6 Change a Metric and Perform T-tests Again\n",
    "From this page (https://developers.google.com/analytics/devguides/reporting/data/v1/api-schema), choose a metric that is different from sessions. Explain why your chosen metric is of significance and run statistical tests to tell whether these two channels are different regarding your chosen metric. "
   ]
  },
  {
   "cell_type": "code",
   "execution_count": null,
   "metadata": {},
   "outputs": [],
   "source": []
  },
  {
   "cell_type": "markdown",
   "metadata": {},
   "source": [
    "# Project 2\n",
    "In this project, you are asked to perform statistical tests to see whether two simulated samples have the same mean statistically."
   ]
  },
  {
   "cell_type": "markdown",
   "metadata": {},
   "source": [
    "## Problem 2.1 \n",
    "The two samples below have the same level of variance (standard deviation=5) and sample size but different means (25 and 30).\n",
    "\n",
    "Based on the data, run both Student's t-test and Welch's t-test.\n",
    "In your answer, are these two samples' means statistically different?\n",
    "Do you get different results from Student's t-test and Welch's t-test?"
   ]
  },
  {
   "cell_type": "code",
   "execution_count": 9,
   "metadata": {},
   "outputs": [],
   "source": [
    "import numpy as np\n",
    "from scipy import stats\n",
    "\n",
    "# Simulated data for the control group (the mean is 25, the standard deviation is 5, and the sample size is 1000)\n",
    "control_group = np.random.normal(loc=25, scale=5, size=1000) # \n",
    "\n",
    "# Simulated data for the treatment group (the mean is 30, the standard deviation is 5, and the sample size is 1000)\n",
    "treatment_group = np.random.normal(loc=30, scale=5, size=1000)"
   ]
  },
  {
   "cell_type": "code",
   "execution_count": null,
   "metadata": {},
   "outputs": [],
   "source": []
  },
  {
   "cell_type": "markdown",
   "metadata": {},
   "source": [
    "## Problem 2.2\n",
    "\n",
    "The two samples below have different sample sizes, means, and variances. \n",
    "\n",
    "Based on the data, run both Student's t-test and Welch's t-test. Are these two samples' means statistically different?\n",
    "\n",
    "Do you get different results from Student's t-test and Welch's t-test? Which test is more reliable? Why?"
   ]
  },
  {
   "cell_type": "code",
   "execution_count": null,
   "metadata": {},
   "outputs": [],
   "source": [
    "control_group = np.random.normal(loc=25, scale=5, size=60)  \n",
    "treatment_group = np.random.normal(loc=30, scale=20, size=100)"
   ]
  },
  {
   "cell_type": "code",
   "execution_count": null,
   "metadata": {},
   "outputs": [],
   "source": []
  }
 ],
 "metadata": {
  "kernelspec": {
   "display_name": "Python 3",
   "language": "python",
   "name": "python3"
  },
  "language_info": {
   "codemirror_mode": {
    "name": "ipython",
    "version": 3
   },
   "file_extension": ".py",
   "mimetype": "text/x-python",
   "name": "python",
   "nbconvert_exporter": "python",
   "pygments_lexer": "ipython3",
   "version": "3.9.13"
  }
 },
 "nbformat": 4,
 "nbformat_minor": 2
}
