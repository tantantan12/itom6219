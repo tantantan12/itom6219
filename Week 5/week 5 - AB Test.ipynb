{
 "cells": [
  {
   "cell_type": "code",
   "execution_count": null,
   "metadata": {},
   "outputs": [],
   "source": [
    "# Week 6 - AB Test"
   ]
  },
  {
   "cell_type": "code",
   "execution_count": null,
   "metadata": {},
   "outputs": [],
   "source": [
    "import numpy as np\n",
    "from scipy import stats\n",
    "\n",
    "# Simulated data for the control group (Group A)\n",
    "control_group = np.random.normal(loc=25, scale=5, size=1000)\n",
    "\n",
    "# Simulated data for the treatment group (Group B)\n",
    "treatment_group = np.random.normal(loc=30, scale=5, size=1000)\n",
    "\n",
    "# Calculate sample means for both groups\n",
    "mean_control = np.mean(control_group)\n",
    "mean_treatment = np.mean(treatment_group)\n",
    "\n",
    "# Calculate sample standard deviations for both groups\n",
    "std_control = np.std(control_group)\n",
    "std_treatment = np.std(treatment_group)\n",
    "\n",
    "# Perform a two-sample t-test\n",
    "t_stat, p_value = stats.ttest_ind(control_group, treatment_group)\n",
    "\n",
    "# Define significance level\n",
    "alpha = 0.05\n",
    "\n",
    "# Check if the difference is statistically significant\n",
    "if p_value < alpha:\n",
    "    print(\"The difference is statistically significant.\")\n",
    "else:\n",
    "    print(\"The difference is not statistically significant.\")\n",
    "\n",
    "# Output the results\n",
    "print(f\"Control Group Mean: {mean_control}\")\n",
    "print(f\"Treatment Group Mean: {mean_treatment}\")\n",
    "print(f\"T-Statistic: {t_stat}\")\n",
    "print(f\"P-Value: {p_value}\")"
   ]
  }
 ],
 "metadata": {
  "kernelspec": {
   "display_name": "Python 3",
   "language": "python",
   "name": "python3"
  },
  "language_info": {
   "name": "python",
   "version": "3.9.6"
  }
 },
 "nbformat": 4,
 "nbformat_minor": 2
}
